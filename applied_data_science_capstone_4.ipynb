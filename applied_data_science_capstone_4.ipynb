{
  "nbformat": 4,
  "nbformat_minor": 0,
  "metadata": {
    "colab": {
      "name": "applied_data_science_capstone_4.ipynb",
      "provenance": [],
      "collapsed_sections": [],
      "authorship_tag": "ABX9TyPcwq2vAYT8SzTCBEhJeIHI",
      "include_colab_link": true
    },
    "kernelspec": {
      "name": "python3",
      "display_name": "Python 3"
    }
  },
  "cells": [
    {
      "cell_type": "markdown",
      "metadata": {
        "id": "view-in-github",
        "colab_type": "text"
      },
      "source": [
        "<a href=\"https://colab.research.google.com/github/Brent-Morrison/Coursera_Capstone/blob/master/applied_data_science_capstone_4.ipynb\" target=\"_parent\"><img src=\"https://colab.research.google.com/assets/colab-badge.svg\" alt=\"Open In Colab\"/></a>"
      ]
    },
    {
      "cell_type": "markdown",
      "metadata": {
        "id": "wnvgvowZNrcW",
        "colab_type": "text"
      },
      "source": [
        "# **Applied Data Science Capstone Project - week 4**\n",
        "\n",
        "# Introduction\n",
        "\n",
        "This project will seek to determine if political persuasion influences uptake of government assistance.\n",
        "\n",
        "We will investigate the uptake of loans granted under the Small Business Administration Paycheck Protection Program (\"SBA-PPP\") in the United States.\n",
        "\n",
        "The SBA-PPP was set up by the US Treasury to provide funding to businesses impacted by the COVID-19 pandemic.\n",
        "\n",
        "The outcome of this analysis will be of interest to social scientists studying the impact of political persuasion on behaviours of businesses in the United States.  \n",
        "\n",
        "The idea for this project came after reading a number of articles pointing out inconsistencies in an organisations beliefs and actions in relation to government assistance.  These two articles ([In sign of the times, Ayn Rand Institute approved for PPP loan](https://www.reuters.com/article/us-health-coronavirus-ppp-ayn-rand/in-sign-of-the-times-ayn-rand-institute-approved-for-ppp-loan-idUSKBN248026), and [Vocal Opponents Of Federal Spending Took PPP Loans](https://www.forbes.com/sites/andrewsolender/2020/07/06/vocal-opponents-of-federal-spending-took-ppp-loans-including-ayn-rand-institute-grover-norquist-group/#7c2ad6703d53) ), highlight what the authors see as hypocritical behaviour.\n",
        "\n",
        "These examples represent individual data points and in all likelihood are called out for their ability to generate headlines.\n",
        "\n",
        "A more thorough analysis will use granular data, that covering a broad population of firms, to answer the question posed above.  Posing that question in a slightly different way.  Are those who we would expect to be opposed to government intervention, less likely to accept government assistance? \n",
        "\n",
        "# Data\n",
        "\n",
        "Determining if political persuasion influences uptake of loans requires us to do three things:\n",
        "1. Quantify loan uptake\n",
        "2. Assess political persuasion\n",
        "3. Identify and hold other characteristics constant\n",
        "\n",
        "Data sources are outlined below.\n",
        "\n",
        "### Loan uptake\n",
        "Data on loans granted under the Small Business Administration Paycheck Protection Program (\"SBA-PPP\") has been made available at the U.S Treasury [website](https://home.treasury.gov/policy-issues/cares-act/assistance-for-small-businesses/sba-paycheck-protection-program-loan-level-data).  This data set contains records for each loan recipient along with attributes such as geographical location, industry membership and business type.\n",
        "\n",
        "### Political persuasion\n",
        "We will assess political persuasion based on electoral results data.  Our source for this data is the [MIT Election Data and Science lab](https://electionlab.mit.edu/data).  This organisation has published numerous election results datasets to [Github](https://github.com/MEDSL).\n",
        "\n",
        "### Confounding characteristics\n",
        "The characteristics held constant will be a combination of demographic and industry attributes. Demographic data will be sourced from US census data via the [uszipcode](https://uszipcode.readthedocs.io/index.html) python library.  This library aggregates geographic, demographic, employment and education data.  \n",
        "\n",
        "Foursquare data will be used to assess the type of region or neighbourhood.  This will be done using the quantity and type of businesses in specific geographical regions.\n",
        "\n"
      ]
    },
    {
      "cell_type": "markdown",
      "metadata": {
        "id": "JeHa2koJ0mn6",
        "colab_type": "text"
      },
      "source": [
        "# Data source examples\n",
        "\n",
        "The code blocks below provide examples of the data sources mentioned above."
      ]
    },
    {
      "cell_type": "code",
      "metadata": {
        "id": "BT4HOodB1EIZ",
        "colab_type": "code",
        "colab": {}
      },
      "source": [
        "# Required libraries\n",
        "import numpy as np\n",
        "import pandas as pd\n",
        "import requests\n",
        "import time"
      ],
      "execution_count": 1,
      "outputs": []
    },
    {
      "cell_type": "markdown",
      "metadata": {
        "id": "M6bNYybs1UJG",
        "colab_type": "text"
      },
      "source": [
        "The **SBA-PPP** data has been downloaded from the US Department of the Treasury website to my google drive folder.  This data was downloaded 15th July 2020."
      ]
    },
    {
      "cell_type": "code",
      "metadata": {
        "id": "TOJbck47LVfs",
        "colab_type": "code",
        "colab": {
          "base_uri": "https://localhost:8080/",
          "height": 33
        },
        "outputId": "829d95fb-07df-4f0e-fb5d-966120e17a5b"
      },
      "source": [
        "# Mount Google Drive to Collaboratory\n",
        "from google.colab import drive \n",
        "drive.mount('/content/gdrive')"
      ],
      "execution_count": 2,
      "outputs": [
        {
          "output_type": "stream",
          "text": [
            "Drive already mounted at /content/gdrive; to attempt to forcibly remount, call drive.mount(\"/content/gdrive\", force_remount=True).\n"
          ],
          "name": "stdout"
        }
      ]
    },
    {
      "cell_type": "code",
      "metadata": {
        "id": "j3UyeLAYJpVm",
        "colab_type": "code",
        "colab": {
          "base_uri": "https://localhost:8080/",
          "height": 435
        },
        "outputId": "7c01d876-b282-4ea3-f3af-accbebb3310c"
      },
      "source": [
        "ppp_df = pd.read_csv('gdrive/My Drive/PPP_Data_150k_plus.csv')\n",
        "ppp_df[ppp_df['State'] == 'IL'].head()"
      ],
      "execution_count": 3,
      "outputs": [
        {
          "output_type": "execute_result",
          "data": {
            "text/html": [
              "<div>\n",
              "<style scoped>\n",
              "    .dataframe tbody tr th:only-of-type {\n",
              "        vertical-align: middle;\n",
              "    }\n",
              "\n",
              "    .dataframe tbody tr th {\n",
              "        vertical-align: top;\n",
              "    }\n",
              "\n",
              "    .dataframe thead th {\n",
              "        text-align: right;\n",
              "    }\n",
              "</style>\n",
              "<table border=\"1\" class=\"dataframe\">\n",
              "  <thead>\n",
              "    <tr style=\"text-align: right;\">\n",
              "      <th></th>\n",
              "      <th>LoanRange</th>\n",
              "      <th>BusinessName</th>\n",
              "      <th>Address</th>\n",
              "      <th>City</th>\n",
              "      <th>State</th>\n",
              "      <th>Zip</th>\n",
              "      <th>NAICSCode</th>\n",
              "      <th>BusinessType</th>\n",
              "      <th>RaceEthnicity</th>\n",
              "      <th>Gender</th>\n",
              "      <th>Veteran</th>\n",
              "      <th>NonProfit</th>\n",
              "      <th>JobsRetained</th>\n",
              "      <th>DateApproved</th>\n",
              "      <th>Lender</th>\n",
              "      <th>CD</th>\n",
              "    </tr>\n",
              "  </thead>\n",
              "  <tbody>\n",
              "    <tr>\n",
              "      <th>212944</th>\n",
              "      <td>a $5-10 million</td>\n",
              "      <td>3D EXHIBITS INC.</td>\n",
              "      <td>ALBION AVE</td>\n",
              "      <td>SCHAUMBURG</td>\n",
              "      <td>IL</td>\n",
              "      <td>60193.0</td>\n",
              "      <td>561920.0</td>\n",
              "      <td>Corporation</td>\n",
              "      <td>Unanswered</td>\n",
              "      <td>Unanswered</td>\n",
              "      <td>Unanswered</td>\n",
              "      <td>NaN</td>\n",
              "      <td>187.0</td>\n",
              "      <td>04/05/2020</td>\n",
              "      <td>Village Bank and Trust, National Association</td>\n",
              "      <td>IL - 08</td>\n",
              "    </tr>\n",
              "    <tr>\n",
              "      <th>212945</th>\n",
              "      <td>a $5-10 million</td>\n",
              "      <td>A M CASTLE AND CO</td>\n",
              "      <td>1420 KENSINGTON RD Suite 220</td>\n",
              "      <td>OAK BROOK</td>\n",
              "      <td>IL</td>\n",
              "      <td>60523.0</td>\n",
              "      <td>423510.0</td>\n",
              "      <td>Corporation</td>\n",
              "      <td>Unanswered</td>\n",
              "      <td>Unanswered</td>\n",
              "      <td>Unanswered</td>\n",
              "      <td>NaN</td>\n",
              "      <td>0.0</td>\n",
              "      <td>04/27/2020</td>\n",
              "      <td>PNC Bank, National Association</td>\n",
              "      <td>IL - 05</td>\n",
              "    </tr>\n",
              "    <tr>\n",
              "      <th>212946</th>\n",
              "      <td>a $5-10 million</td>\n",
              "      <td>AARETE, INC.</td>\n",
              "      <td>200 E. Randolph Street Suite 3010</td>\n",
              "      <td>CHICAGO</td>\n",
              "      <td>IL</td>\n",
              "      <td>60601.0</td>\n",
              "      <td>541611.0</td>\n",
              "      <td>Subchapter S Corporation</td>\n",
              "      <td>Unanswered</td>\n",
              "      <td>Unanswered</td>\n",
              "      <td>Unanswered</td>\n",
              "      <td>NaN</td>\n",
              "      <td>270.0</td>\n",
              "      <td>04/08/2020</td>\n",
              "      <td>BMO Harris Bank National Association</td>\n",
              "      <td>IL - 07</td>\n",
              "    </tr>\n",
              "    <tr>\n",
              "      <th>212947</th>\n",
              "      <td>a $5-10 million</td>\n",
              "      <td>ABCOM TECHNOLOGY GROUP, INC.</td>\n",
              "      <td>1456 NORWOOD AVE</td>\n",
              "      <td>ITASCA</td>\n",
              "      <td>IL</td>\n",
              "      <td>60143.0</td>\n",
              "      <td>561920.0</td>\n",
              "      <td>Corporation</td>\n",
              "      <td>Unanswered</td>\n",
              "      <td>Unanswered</td>\n",
              "      <td>Unanswered</td>\n",
              "      <td>NaN</td>\n",
              "      <td>448.0</td>\n",
              "      <td>04/07/2020</td>\n",
              "      <td>Western Alliance Bank</td>\n",
              "      <td>IL - 08</td>\n",
              "    </tr>\n",
              "    <tr>\n",
              "      <th>212948</th>\n",
              "      <td>a $5-10 million</td>\n",
              "      <td>ACCURATE PERSONNEL LLC</td>\n",
              "      <td>33 S ROSELLE RD</td>\n",
              "      <td>SCHAUMBURG</td>\n",
              "      <td>IL</td>\n",
              "      <td>60193.0</td>\n",
              "      <td>561320.0</td>\n",
              "      <td>Limited  Liability Company(LLC)</td>\n",
              "      <td>Unanswered</td>\n",
              "      <td>Male Owned</td>\n",
              "      <td>Non-Veteran</td>\n",
              "      <td>NaN</td>\n",
              "      <td>500.0</td>\n",
              "      <td>04/08/2020</td>\n",
              "      <td>Schaumburg Bank &amp; Trust Company, National Asso...</td>\n",
              "      <td>IL - 08</td>\n",
              "    </tr>\n",
              "  </tbody>\n",
              "</table>\n",
              "</div>"
            ],
            "text/plain": [
              "              LoanRange  ...       CD\n",
              "212944  a $5-10 million  ...  IL - 08\n",
              "212945  a $5-10 million  ...  IL - 05\n",
              "212946  a $5-10 million  ...  IL - 07\n",
              "212947  a $5-10 million  ...  IL - 08\n",
              "212948  a $5-10 million  ...  IL - 08\n",
              "\n",
              "[5 rows x 16 columns]"
            ]
          },
          "metadata": {
            "tags": []
          },
          "execution_count": 3
        }
      ]
    },
    {
      "cell_type": "markdown",
      "metadata": {
        "id": "Ad3bZqiZ2vtO",
        "colab_type": "text"
      },
      "source": [
        "**MIT Election Data and Science lab** github data."
      ]
    },
    {
      "cell_type": "code",
      "metadata": {
        "id": "60IW9PmslggO",
        "colab_type": "code",
        "colab": {
          "base_uri": "https://localhost:8080/",
          "height": 256
        },
        "outputId": "6e8d120b-5b9b-4a0d-b5fa-3c33e43b1bcd"
      },
      "source": [
        "# https://electionlab.mit.edu/data\n",
        "df_county = pd.read_csv('https://raw.githubusercontent.com/MEDSL/2018-elections-official/master/county_2018.csv', encoding = 'ISO-8859-1')\n",
        "df_county[df_county['state_po'] == 'IL'].head()"
      ],
      "execution_count": 4,
      "outputs": [
        {
          "output_type": "execute_result",
          "data": {
            "text/html": [
              "<div>\n",
              "<style scoped>\n",
              "    .dataframe tbody tr th:only-of-type {\n",
              "        vertical-align: middle;\n",
              "    }\n",
              "\n",
              "    .dataframe tbody tr th {\n",
              "        vertical-align: top;\n",
              "    }\n",
              "\n",
              "    .dataframe thead th {\n",
              "        text-align: right;\n",
              "    }\n",
              "</style>\n",
              "<table border=\"1\" class=\"dataframe\">\n",
              "  <thead>\n",
              "    <tr style=\"text-align: right;\">\n",
              "      <th></th>\n",
              "      <th>year</th>\n",
              "      <th>state</th>\n",
              "      <th>state_po</th>\n",
              "      <th>state_fips</th>\n",
              "      <th>state_cen</th>\n",
              "      <th>state_ic</th>\n",
              "      <th>county</th>\n",
              "      <th>office</th>\n",
              "      <th>district</th>\n",
              "      <th>stage</th>\n",
              "      <th>special</th>\n",
              "      <th>rank</th>\n",
              "      <th>candidate</th>\n",
              "      <th>party</th>\n",
              "      <th>writein</th>\n",
              "      <th>mode</th>\n",
              "      <th>candidatevotes</th>\n",
              "      <th>totalvotes</th>\n",
              "      <th>unofficial</th>\n",
              "      <th>version</th>\n",
              "    </tr>\n",
              "  </thead>\n",
              "  <tbody>\n",
              "    <tr>\n",
              "      <th>54580</th>\n",
              "      <td>2018</td>\n",
              "      <td>Illinois</td>\n",
              "      <td>IL</td>\n",
              "      <td>17</td>\n",
              "      <td>33</td>\n",
              "      <td>21</td>\n",
              "      <td>Adams</td>\n",
              "      <td>Attorney General</td>\n",
              "      <td>statewide</td>\n",
              "      <td>gen</td>\n",
              "      <td>False</td>\n",
              "      <td>NaN</td>\n",
              "      <td>Bubba Harsy</td>\n",
              "      <td>libertarian</td>\n",
              "      <td>False</td>\n",
              "      <td>total</td>\n",
              "      <td>597.0</td>\n",
              "      <td>4548409.0</td>\n",
              "      <td>False</td>\n",
              "      <td>20190430</td>\n",
              "    </tr>\n",
              "    <tr>\n",
              "      <th>54581</th>\n",
              "      <td>2018</td>\n",
              "      <td>Illinois</td>\n",
              "      <td>IL</td>\n",
              "      <td>17</td>\n",
              "      <td>33</td>\n",
              "      <td>21</td>\n",
              "      <td>Adams</td>\n",
              "      <td>Attorney General</td>\n",
              "      <td>statewide</td>\n",
              "      <td>gen</td>\n",
              "      <td>False</td>\n",
              "      <td>NaN</td>\n",
              "      <td>Erika Harold</td>\n",
              "      <td>republican</td>\n",
              "      <td>False</td>\n",
              "      <td>total</td>\n",
              "      <td>17910.0</td>\n",
              "      <td>4548409.0</td>\n",
              "      <td>False</td>\n",
              "      <td>20190430</td>\n",
              "    </tr>\n",
              "    <tr>\n",
              "      <th>54582</th>\n",
              "      <td>2018</td>\n",
              "      <td>Illinois</td>\n",
              "      <td>IL</td>\n",
              "      <td>17</td>\n",
              "      <td>33</td>\n",
              "      <td>21</td>\n",
              "      <td>Adams</td>\n",
              "      <td>Attorney General</td>\n",
              "      <td>statewide</td>\n",
              "      <td>gen</td>\n",
              "      <td>False</td>\n",
              "      <td>NaN</td>\n",
              "      <td>Kwame Raoul</td>\n",
              "      <td>democrat</td>\n",
              "      <td>False</td>\n",
              "      <td>total</td>\n",
              "      <td>5748.0</td>\n",
              "      <td>4548409.0</td>\n",
              "      <td>False</td>\n",
              "      <td>20190430</td>\n",
              "    </tr>\n",
              "    <tr>\n",
              "      <th>54583</th>\n",
              "      <td>2018</td>\n",
              "      <td>Illinois</td>\n",
              "      <td>IL</td>\n",
              "      <td>17</td>\n",
              "      <td>33</td>\n",
              "      <td>21</td>\n",
              "      <td>Adams</td>\n",
              "      <td>Comptroller</td>\n",
              "      <td>statewide</td>\n",
              "      <td>gen</td>\n",
              "      <td>False</td>\n",
              "      <td>NaN</td>\n",
              "      <td>Claire Ball</td>\n",
              "      <td>libertarian</td>\n",
              "      <td>False</td>\n",
              "      <td>total</td>\n",
              "      <td>730.0</td>\n",
              "      <td>4535759.0</td>\n",
              "      <td>False</td>\n",
              "      <td>20190430</td>\n",
              "    </tr>\n",
              "    <tr>\n",
              "      <th>54584</th>\n",
              "      <td>2018</td>\n",
              "      <td>Illinois</td>\n",
              "      <td>IL</td>\n",
              "      <td>17</td>\n",
              "      <td>33</td>\n",
              "      <td>21</td>\n",
              "      <td>Adams</td>\n",
              "      <td>Comptroller</td>\n",
              "      <td>statewide</td>\n",
              "      <td>gen</td>\n",
              "      <td>False</td>\n",
              "      <td>NaN</td>\n",
              "      <td>Darlene Senger</td>\n",
              "      <td>republican</td>\n",
              "      <td>False</td>\n",
              "      <td>total</td>\n",
              "      <td>15853.0</td>\n",
              "      <td>4535759.0</td>\n",
              "      <td>False</td>\n",
              "      <td>20190430</td>\n",
              "    </tr>\n",
              "  </tbody>\n",
              "</table>\n",
              "</div>"
            ],
            "text/plain": [
              "       year     state state_po  ...  totalvotes  unofficial   version\n",
              "54580  2018  Illinois       IL  ...   4548409.0       False  20190430\n",
              "54581  2018  Illinois       IL  ...   4548409.0       False  20190430\n",
              "54582  2018  Illinois       IL  ...   4548409.0       False  20190430\n",
              "54583  2018  Illinois       IL  ...   4535759.0       False  20190430\n",
              "54584  2018  Illinois       IL  ...   4535759.0       False  20190430\n",
              "\n",
              "[5 rows x 20 columns]"
            ]
          },
          "metadata": {
            "tags": []
          },
          "execution_count": 4
        }
      ]
    },
    {
      "cell_type": "markdown",
      "metadata": {
        "id": "rNGMgAxU3Md_",
        "colab_type": "text"
      },
      "source": [
        "**Demographic data** is sourced using the [uszipcode](https://uszipcode.readthedocs.io/index.html) python library."
      ]
    },
    {
      "cell_type": "code",
      "metadata": {
        "id": "wqc4Q0s-FHoN",
        "colab_type": "code",
        "colab": {
          "base_uri": "https://localhost:8080/",
          "height": 228
        },
        "outputId": "6a6e2c8b-470a-44ec-c81c-e9db83e33347"
      },
      "source": [
        "!pip install uszipcode"
      ],
      "execution_count": 5,
      "outputs": [
        {
          "output_type": "stream",
          "text": [
            "Requirement already satisfied: uszipcode in /usr/local/lib/python3.6/dist-packages (0.2.4)\n",
            "Requirement already satisfied: sqlalchemy in /usr/local/lib/python3.6/dist-packages (from uszipcode) (1.3.18)\n",
            "Requirement already satisfied: requests in /usr/local/lib/python3.6/dist-packages (from uszipcode) (2.23.0)\n",
            "Requirement already satisfied: attrs in /usr/local/lib/python3.6/dist-packages (from uszipcode) (19.3.0)\n",
            "Requirement already satisfied: pathlib-mate in /usr/local/lib/python3.6/dist-packages (from uszipcode) (1.0.0)\n",
            "Requirement already satisfied: chardet<4,>=3.0.2 in /usr/local/lib/python3.6/dist-packages (from requests->uszipcode) (3.0.4)\n",
            "Requirement already satisfied: urllib3!=1.25.0,!=1.25.1,<1.26,>=1.21.1 in /usr/local/lib/python3.6/dist-packages (from requests->uszipcode) (1.24.3)\n",
            "Requirement already satisfied: certifi>=2017.4.17 in /usr/local/lib/python3.6/dist-packages (from requests->uszipcode) (2020.6.20)\n",
            "Requirement already satisfied: idna<3,>=2.5 in /usr/local/lib/python3.6/dist-packages (from requests->uszipcode) (2.10)\n",
            "Requirement already satisfied: six in /usr/local/lib/python3.6/dist-packages (from pathlib-mate->uszipcode) (1.12.0)\n",
            "Requirement already satisfied: autopep8 in /usr/local/lib/python3.6/dist-packages (from pathlib-mate->uszipcode) (1.5.3)\n",
            "Requirement already satisfied: pycodestyle>=2.6.0 in /usr/local/lib/python3.6/dist-packages (from autopep8->pathlib-mate->uszipcode) (2.6.0)\n",
            "Requirement already satisfied: toml in /usr/local/lib/python3.6/dist-packages (from autopep8->pathlib-mate->uszipcode) (0.10.1)\n"
          ],
          "name": "stdout"
        }
      ]
    },
    {
      "cell_type": "code",
      "metadata": {
        "id": "aOBbRY0oFXQP",
        "colab_type": "code",
        "colab": {}
      },
      "source": [
        "from uszipcode import SearchEngine, SimpleZipcode"
      ],
      "execution_count": 6,
      "outputs": []
    },
    {
      "cell_type": "code",
      "metadata": {
        "id": "Qr5S2a2NFb3Q",
        "colab_type": "code",
        "colab": {
          "base_uri": "https://localhost:8080/",
          "height": 53
        },
        "outputId": "833c0d21-9d39-4534-fe96-ba1a69cfb349"
      },
      "source": [
        "search = SearchEngine(simple_zipcode=True)\n",
        "zipcode = search.by_zipcode('60193')\n",
        "zipcode"
      ],
      "execution_count": 7,
      "outputs": [
        {
          "output_type": "execute_result",
          "data": {
            "text/plain": [
              "SimpleZipcode(zipcode='60193', zipcode_type='Standard', major_city='Schaumburg', post_office_city='Schaumburg, IL', common_city_list=['Schaumburg'], county='Cook County', state='IL', lat=42.01, lng=-88.09, timezone='Central', radius_in_miles=4.0, area_code_list=['224', '312', '630', '708', '847'], population=39188, population_density=4289.0, land_area_in_sqmi=9.14, water_area_in_sqmi=0.03, housing_units=16649, occupied_housing_units=16019, median_home_value=257100, median_household_income=72939, bounds_west=-88.154324, bounds_east=-88.031254, bounds_north=42.029954, bounds_south=41.988685)"
            ]
          },
          "metadata": {
            "tags": []
          },
          "execution_count": 7
        }
      ]
    },
    {
      "cell_type": "markdown",
      "metadata": {
        "id": "qnG0laqx5bn1",
        "colab_type": "text"
      },
      "source": [
        "**Foursquare** data for information on individual neighbourhoods."
      ]
    },
    {
      "cell_type": "code",
      "metadata": {
        "id": "wvxwY2Mg59E-",
        "colab_type": "code",
        "colab": {}
      },
      "source": [
        "# Foursquare credentials\n",
        "CLIENT_ID='0M35HSSAZ1L2QPGP5LAKSPMBUUDTERESBKXLNZRQMUCEVJYS'\n",
        "CLIENT_SECRET='QWIGICNR1KXB3RU5Y5LRJFH03RANUYOVRKNTUTO0KCONHAGQ'\n",
        "VERSION='20200623'\n",
        "LIMIT=100"
      ],
      "execution_count": 8,
      "outputs": []
    },
    {
      "cell_type": "code",
      "metadata": {
        "id": "h673Uglg6CGA",
        "colab_type": "code",
        "colab": {}
      },
      "source": [
        "# Function for querying Foursquare\n",
        "def getNearbyVenues(names, latitudes, longitudes, radius=500):\n",
        "    \n",
        "    venues_list=[]\n",
        "    for name, lat, lng in zip(names, latitudes, longitudes):\n",
        "        #print(name)\n",
        "            \n",
        "        # create the API request URL\n",
        "        url = 'https://api.foursquare.com/v2/venues/explore?&client_id={}&client_secret={}&v={}&ll={},{}&radius={}&limit={}'.format(\n",
        "            CLIENT_ID, \n",
        "            CLIENT_SECRET, \n",
        "            VERSION, \n",
        "            lat, \n",
        "            lng, \n",
        "            radius, \n",
        "            LIMIT)\n",
        "            \n",
        "        # make the GET request\n",
        "        #results = requests.get(url).json()[\"response\"]['groups'][0]['items']\n",
        "        # Alternate approach due to KeyError on \"groups\"\n",
        "        results = requests.get(url).json()[\"response\"].get('groups')[0]['items']\n",
        "        \n",
        "        # return only relevant information for each nearby venue\n",
        "        venues_list.append([(\n",
        "            name, \n",
        "            lat, \n",
        "            lng, \n",
        "            v['venue']['name'], \n",
        "            v['venue']['location']['lat'], \n",
        "            v['venue']['location']['lng'],  \n",
        "            v['venue']['categories'][0]['name']) for v in results])\n",
        "        \n",
        "        # Prevent disconnect\n",
        "        time.sleep(0.05)\n",
        "\n",
        "    nearby_venues = pd.DataFrame([item for venue_list in venues_list for item in venue_list])\n",
        "    nearby_venues.columns = ['Neighborhood', \n",
        "                  'Neighborhood Latitude', \n",
        "                  'Neighborhood Longitude', \n",
        "                  'Venue', \n",
        "                  'Venue Latitude', \n",
        "                  'Venue Longitude', \n",
        "                  'Venue Category']\n",
        "    \n",
        "    return(nearby_venues)"
      ],
      "execution_count": 9,
      "outputs": []
    },
    {
      "cell_type": "code",
      "metadata": {
        "id": "Kt5P2YF66O5X",
        "colab_type": "code",
        "colab": {
          "base_uri": "https://localhost:8080/",
          "height": 105
        },
        "outputId": "ec09982f-159e-4146-b4cb-6c14ab808fac"
      },
      "source": [
        "# Example data\n",
        "schaumburg = getNearbyVenues(\n",
        "    names=['Schaumburg'],\n",
        "    latitudes=[42.01],\n",
        "    longitudes=[-88.09]\n",
        "  )\n",
        "schaumburg.head()"
      ],
      "execution_count": 10,
      "outputs": [
        {
          "output_type": "execute_result",
          "data": {
            "text/html": [
              "<div>\n",
              "<style scoped>\n",
              "    .dataframe tbody tr th:only-of-type {\n",
              "        vertical-align: middle;\n",
              "    }\n",
              "\n",
              "    .dataframe tbody tr th {\n",
              "        vertical-align: top;\n",
              "    }\n",
              "\n",
              "    .dataframe thead th {\n",
              "        text-align: right;\n",
              "    }\n",
              "</style>\n",
              "<table border=\"1\" class=\"dataframe\">\n",
              "  <thead>\n",
              "    <tr style=\"text-align: right;\">\n",
              "      <th></th>\n",
              "      <th>Neighborhood</th>\n",
              "      <th>Neighborhood Latitude</th>\n",
              "      <th>Neighborhood Longitude</th>\n",
              "      <th>Venue</th>\n",
              "      <th>Venue Latitude</th>\n",
              "      <th>Venue Longitude</th>\n",
              "      <th>Venue Category</th>\n",
              "    </tr>\n",
              "  </thead>\n",
              "  <tbody>\n",
              "    <tr>\n",
              "      <th>0</th>\n",
              "      <td>Schaumburg</td>\n",
              "      <td>42.01</td>\n",
              "      <td>-88.09</td>\n",
              "      <td>Access Taxi</td>\n",
              "      <td>42.01332</td>\n",
              "      <td>-88.092928</td>\n",
              "      <td>Bar</td>\n",
              "    </tr>\n",
              "    <tr>\n",
              "      <th>1</th>\n",
              "      <td>Schaumburg</td>\n",
              "      <td>42.01</td>\n",
              "      <td>-88.09</td>\n",
              "      <td>Sue Garcia Fitness</td>\n",
              "      <td>42.01383</td>\n",
              "      <td>-88.092864</td>\n",
              "      <td>Gym / Fitness Center</td>\n",
              "    </tr>\n",
              "  </tbody>\n",
              "</table>\n",
              "</div>"
            ],
            "text/plain": [
              "  Neighborhood  Neighborhood Latitude  ...  Venue Longitude        Venue Category\n",
              "0   Schaumburg                  42.01  ...       -88.092928                   Bar\n",
              "1   Schaumburg                  42.01  ...       -88.092864  Gym / Fitness Center\n",
              "\n",
              "[2 rows x 7 columns]"
            ]
          },
          "metadata": {
            "tags": []
          },
          "execution_count": 10
        }
      ]
    }
  ]
}