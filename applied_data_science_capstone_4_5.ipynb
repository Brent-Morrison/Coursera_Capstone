{
  "nbformat": 4,
  "nbformat_minor": 0,
  "metadata": {
    "colab": {
      "name": "applied_data_science_capstone_4_5.ipynb",
      "provenance": [],
      "collapsed_sections": [],
      "toc_visible": true,
      "authorship_tag": "ABX9TyOvZ6t7v9wgWnw9tCLttlPA",
      "include_colab_link": true
    },
    "kernelspec": {
      "name": "python3",
      "display_name": "Python 3"
    }
  },
  "cells": [
    {
      "cell_type": "markdown",
      "metadata": {
        "id": "view-in-github",
        "colab_type": "text"
      },
      "source": [
        "<a href=\"https://colab.research.google.com/github/Brent-Morrison/Coursera_Capstone/blob/master/applied_data_science_capstone_4_5.ipynb\" target=\"_parent\"><img src=\"https://colab.research.google.com/assets/colab-badge.svg\" alt=\"Open In Colab\"/></a>"
      ]
    },
    {
      "cell_type": "markdown",
      "metadata": {
        "id": "cGdKaEEFGDZO",
        "colab_type": "text"
      },
      "source": [
        "# **Applied Data Science Capstone Project - Paycheck Protection Program loans**"
      ]
    },
    {
      "cell_type": "markdown",
      "metadata": {
        "id": "wnvgvowZNrcW",
        "colab_type": "text"
      },
      "source": [
        "# Introduction\n",
        "\n",
        "This project will seek to determine if political persuasion influences utilisation of government assistance.\n",
        "\n",
        "We will investigate the uptake of loans granted under the Small Business Administration Paycheck Protection Program (\"SBA-PPP\") in the United States.\n",
        "\n",
        "The SBA-PPP was set up by the US Treasury to provide funding to businesses impacted by the COVID-19 pandemic.\n",
        "\n",
        "The outcome of this analysis will be of interest to social scientists studying the impact of political persuasion on behaviours of businesses in the United States.  \n",
        "\n",
        "The idea for this project came after reading a number of articles pointing out inconsistencies in an organisations beliefs and actions in relation to government assistance.  These two articles ([In sign of the times, Ayn Rand Institute approved for PPP loan](https://www.reuters.com/article/us-health-coronavirus-ppp-ayn-rand/in-sign-of-the-times-ayn-rand-institute-approved-for-ppp-loan-idUSKBN248026), and [Vocal Opponents Of Federal Spending Took PPP Loans](https://www.forbes.com/sites/andrewsolender/2020/07/06/vocal-opponents-of-federal-spending-took-ppp-loans-including-ayn-rand-institute-grover-norquist-group/#7c2ad6703d53) ), highlight what the authors see as hypocritical behaviour.\n",
        "\n",
        "These examples represent individual data points, and in all likelihood are called out for their ability to generate headlines.\n",
        "\n",
        "A more thorough analysis will use granular data, that covering a broad population of firms, to answer the question posed above.  Posing that question in a slightly different way.  Are those who we would expect to be opposed to government intervention, less likely to accept government assistance? \n",
        "\n",
        "# Data\n",
        "\n",
        "Determining if political persuasion influences uptake of loans requires us to do three things:\n",
        "1. Quantify loan uptake\n",
        "2. Assess political persuasion\n",
        "3. Identify and hold other characteristics constant\n",
        "\n",
        "The data sources that will allow us to do this are outlined below.\n",
        "\n",
        "### Loan uptake\n",
        "Data on loans granted under the Small Business Administration Paycheck Protection Program (\"SBA-PPP\") has been made available at the U.S Treasury [website](https://home.treasury.gov/policy-issues/cares-act/assistance-for-small-businesses/sba-paycheck-protection-program-loan-level-data).  This data set contains records for each loan recipient along with attributes such as geographical location, industry membership and business type.\n",
        "\n",
        "### Political persuasion\n",
        "We will assess political persuasion based on electoral results data.  Our source for this data is the [MIT Election Data and Science lab](https://electionlab.mit.edu/data).  This organisation has published numerous election results datasets to [Github](https://github.com/MEDSL).\n",
        "\n",
        "### Confounding characteristics\n",
        "The characteristics held constant will be a combination of demographic and industry attributes. Demographic data will be sourced from US census data via the [uszipcode](https://uszipcode.readthedocs.io/index.html) python library.  This library aggregates geographic, demographic, employment and education data.  \n",
        "\n",
        "**Foursquare** data will be used to assess the type of region or neighbourhood.  This will be done using the quantity and type of businesses in specific geographical regions.\n",
        "\n"
      ]
    },
    {
      "cell_type": "markdown",
      "metadata": {
        "id": "JeHa2koJ0mn6",
        "colab_type": "text"
      },
      "source": [
        "# Data source examples\n",
        "\n",
        "The code blocks below provide examples of the data sources mentioned above."
      ]
    },
    {
      "cell_type": "code",
      "metadata": {
        "id": "BT4HOodB1EIZ",
        "colab_type": "code",
        "colab": {
          "base_uri": "https://localhost:8080/",
          "height": 70
        },
        "outputId": "745f3169-a0e3-46ab-c3a7-2d97aa47e5cd"
      },
      "source": [
        "# Required libraries\n",
        "import numpy as np\n",
        "import pandas as pd\n",
        "from scipy.cluster.hierarchy import dendrogram, linkage, fcluster\n",
        "from sklearn.preprocessing import MinMaxScaler\n",
        "import requests\n",
        "import time\n",
        "import json\n",
        "import matplotlib.pyplot as plt\n",
        "import seaborn as sns"
      ],
      "execution_count": 1,
      "outputs": [
        {
          "output_type": "stream",
          "text": [
            "/usr/local/lib/python3.6/dist-packages/statsmodels/tools/_testing.py:19: FutureWarning: pandas.util.testing is deprecated. Use the functions in the public API at pandas.testing instead.\n",
            "  import pandas.util.testing as tm\n"
          ],
          "name": "stderr"
        }
      ]
    },
    {
      "cell_type": "markdown",
      "metadata": {
        "id": "M6bNYybs1UJG",
        "colab_type": "text"
      },
      "source": [
        "The **SBA-PPP** data has been downloaded from the US Department of the Treasury website to my google drive folder.  This data was downloaded 15th July 2020."
      ]
    },
    {
      "cell_type": "code",
      "metadata": {
        "id": "TOJbck47LVfs",
        "colab_type": "code",
        "colab": {
          "base_uri": "https://localhost:8080/",
          "height": 33
        },
        "outputId": "68b44bf0-f183-420f-e16d-aa0fec7e4f99"
      },
      "source": [
        "# Mount Google Drive to Collaboratory\n",
        "\n",
        "from google.colab import drive \n",
        "drive.mount('/content/gdrive')"
      ],
      "execution_count": 2,
      "outputs": [
        {
          "output_type": "stream",
          "text": [
            "Drive already mounted at /content/gdrive; to attempt to forcibly remount, call drive.mount(\"/content/gdrive\", force_remount=True).\n"
          ],
          "name": "stdout"
        }
      ]
    },
    {
      "cell_type": "code",
      "metadata": {
        "id": "j3UyeLAYJpVm",
        "colab_type": "code",
        "colab": {}
      },
      "source": [
        "#ppp_raw = pd.read_csv('gdrive/My Drive/PPP_Data_150k_plus.csv',chunksize=100000)\n",
        "#ppp_raw[ppp_raw['State'] == 'IL'].head()"
      ],
      "execution_count": 3,
      "outputs": []
    },
    {
      "cell_type": "markdown",
      "metadata": {
        "id": "Urt-cJxaJo_Z",
        "colab_type": "text"
      },
      "source": [
        "Unfortunately the file is quite large and reading from google drive has proven unreliable.  The file has therefore been saved to Github, with a filter applied leaving only the states of Missouri and Illinois.  \n",
        "\n",
        "Below is a sample of this data."
      ]
    },
    {
      "cell_type": "code",
      "metadata": {
        "id": "U2iwnHXUJR2o",
        "colab_type": "code",
        "colab": {
          "base_uri": "https://localhost:8080/",
          "height": 455
        },
        "outputId": "528ba2dd-1856-4926-aeb1-c6e045d0fbd8"
      },
      "source": [
        "ppp_raw = pd.read_csv('https://raw.githubusercontent.com/Brent-Morrison/Coursera_Capstone/master/PPP_Data_150k_plus_MOIL.csv')\n",
        "ppp_raw[ppp_raw['State'] == 'IL'].head()"
      ],
      "execution_count": 4,
      "outputs": [
        {
          "output_type": "execute_result",
          "data": {
            "text/html": [
              "<div>\n",
              "<style scoped>\n",
              "    .dataframe tbody tr th:only-of-type {\n",
              "        vertical-align: middle;\n",
              "    }\n",
              "\n",
              "    .dataframe tbody tr th {\n",
              "        vertical-align: top;\n",
              "    }\n",
              "\n",
              "    .dataframe thead th {\n",
              "        text-align: right;\n",
              "    }\n",
              "</style>\n",
              "<table border=\"1\" class=\"dataframe\">\n",
              "  <thead>\n",
              "    <tr style=\"text-align: right;\">\n",
              "      <th></th>\n",
              "      <th>LoanRange</th>\n",
              "      <th>BusinessName</th>\n",
              "      <th>Address</th>\n",
              "      <th>City</th>\n",
              "      <th>State</th>\n",
              "      <th>Zip</th>\n",
              "      <th>NAICSCode</th>\n",
              "      <th>BusinessType</th>\n",
              "      <th>RaceEthnicity</th>\n",
              "      <th>Gender</th>\n",
              "      <th>Veteran</th>\n",
              "      <th>NonProfit</th>\n",
              "      <th>JobsRetained</th>\n",
              "      <th>DateApproved</th>\n",
              "      <th>Lender</th>\n",
              "      <th>CD</th>\n",
              "    </tr>\n",
              "  </thead>\n",
              "  <tbody>\n",
              "    <tr>\n",
              "      <th>0</th>\n",
              "      <td>a $5-10 million</td>\n",
              "      <td>3D EXHIBITS INC.</td>\n",
              "      <td>ALBION AVE</td>\n",
              "      <td>SCHAUMBURG</td>\n",
              "      <td>IL</td>\n",
              "      <td>60193</td>\n",
              "      <td>561920.0</td>\n",
              "      <td>Corporation</td>\n",
              "      <td>Unanswered</td>\n",
              "      <td>Unanswered</td>\n",
              "      <td>Unanswered</td>\n",
              "      <td>NaN</td>\n",
              "      <td>187.0</td>\n",
              "      <td>43955</td>\n",
              "      <td>Village Bank and Trust, National Association</td>\n",
              "      <td>IL - 08</td>\n",
              "    </tr>\n",
              "    <tr>\n",
              "      <th>1</th>\n",
              "      <td>a $5-10 million</td>\n",
              "      <td>A M CASTLE AND CO</td>\n",
              "      <td>1420 KENSINGTON RD Suite 220</td>\n",
              "      <td>OAK BROOK</td>\n",
              "      <td>IL</td>\n",
              "      <td>60523</td>\n",
              "      <td>423510.0</td>\n",
              "      <td>Corporation</td>\n",
              "      <td>Unanswered</td>\n",
              "      <td>Unanswered</td>\n",
              "      <td>Unanswered</td>\n",
              "      <td>NaN</td>\n",
              "      <td>0.0</td>\n",
              "      <td>04/27/2020</td>\n",
              "      <td>PNC Bank, National Association</td>\n",
              "      <td>IL - 05</td>\n",
              "    </tr>\n",
              "    <tr>\n",
              "      <th>2</th>\n",
              "      <td>a $5-10 million</td>\n",
              "      <td>AARETE, INC.</td>\n",
              "      <td>200 E. Randolph Street Suite 3010</td>\n",
              "      <td>CHICAGO</td>\n",
              "      <td>IL</td>\n",
              "      <td>60601</td>\n",
              "      <td>541611.0</td>\n",
              "      <td>Subchapter S Corporation</td>\n",
              "      <td>Unanswered</td>\n",
              "      <td>Unanswered</td>\n",
              "      <td>Unanswered</td>\n",
              "      <td>NaN</td>\n",
              "      <td>270.0</td>\n",
              "      <td>44047</td>\n",
              "      <td>BMO Harris Bank National Association</td>\n",
              "      <td>IL - 07</td>\n",
              "    </tr>\n",
              "    <tr>\n",
              "      <th>3</th>\n",
              "      <td>a $5-10 million</td>\n",
              "      <td>ABCOM TECHNOLOGY GROUP, INC.</td>\n",
              "      <td>1456 NORWOOD AVE</td>\n",
              "      <td>ITASCA</td>\n",
              "      <td>IL</td>\n",
              "      <td>60143</td>\n",
              "      <td>561920.0</td>\n",
              "      <td>Corporation</td>\n",
              "      <td>Unanswered</td>\n",
              "      <td>Unanswered</td>\n",
              "      <td>Unanswered</td>\n",
              "      <td>NaN</td>\n",
              "      <td>448.0</td>\n",
              "      <td>44016</td>\n",
              "      <td>Western Alliance Bank</td>\n",
              "      <td>IL - 08</td>\n",
              "    </tr>\n",
              "    <tr>\n",
              "      <th>4</th>\n",
              "      <td>a $5-10 million</td>\n",
              "      <td>ACCURATE PERSONNEL LLC</td>\n",
              "      <td>33 S ROSELLE RD</td>\n",
              "      <td>SCHAUMBURG</td>\n",
              "      <td>IL</td>\n",
              "      <td>60193</td>\n",
              "      <td>561320.0</td>\n",
              "      <td>Limited  Liability Company(LLC)</td>\n",
              "      <td>Unanswered</td>\n",
              "      <td>Male Owned</td>\n",
              "      <td>Non-Veteran</td>\n",
              "      <td>NaN</td>\n",
              "      <td>500.0</td>\n",
              "      <td>44047</td>\n",
              "      <td>Schaumburg Bank &amp; Trust Company, National Asso...</td>\n",
              "      <td>IL - 08</td>\n",
              "    </tr>\n",
              "  </tbody>\n",
              "</table>\n",
              "</div>"
            ],
            "text/plain": [
              "         LoanRange  ...       CD\n",
              "0  a $5-10 million  ...  IL - 08\n",
              "1  a $5-10 million  ...  IL - 05\n",
              "2  a $5-10 million  ...  IL - 07\n",
              "3  a $5-10 million  ...  IL - 08\n",
              "4  a $5-10 million  ...  IL - 08\n",
              "\n",
              "[5 rows x 16 columns]"
            ]
          },
          "metadata": {
            "tags": []
          },
          "execution_count": 4
        }
      ]
    },
    {
      "cell_type": "markdown",
      "metadata": {
        "id": "Ad3bZqiZ2vtO",
        "colab_type": "text"
      },
      "source": [
        "**MIT Election Data and Science lab** github data.\n",
        "\n",
        "Below is a sample of this data."
      ]
    },
    {
      "cell_type": "code",
      "metadata": {
        "id": "60IW9PmslggO",
        "colab_type": "code",
        "colab": {
          "base_uri": "https://localhost:8080/",
          "height": 276
        },
        "outputId": "9fbde715-d60e-439c-a43b-75bac5f92379"
      },
      "source": [
        "# https://electionlab.mit.edu/data\n",
        "elctn_county = pd.read_csv('https://raw.githubusercontent.com/MEDSL/2018-elections-official/master/county_2018.csv', encoding = 'ISO-8859-1')\n",
        "elctn_county[elctn_county['state_po'] == 'IL'].head()"
      ],
      "execution_count": 5,
      "outputs": [
        {
          "output_type": "execute_result",
          "data": {
            "text/html": [
              "<div>\n",
              "<style scoped>\n",
              "    .dataframe tbody tr th:only-of-type {\n",
              "        vertical-align: middle;\n",
              "    }\n",
              "\n",
              "    .dataframe tbody tr th {\n",
              "        vertical-align: top;\n",
              "    }\n",
              "\n",
              "    .dataframe thead th {\n",
              "        text-align: right;\n",
              "    }\n",
              "</style>\n",
              "<table border=\"1\" class=\"dataframe\">\n",
              "  <thead>\n",
              "    <tr style=\"text-align: right;\">\n",
              "      <th></th>\n",
              "      <th>year</th>\n",
              "      <th>state</th>\n",
              "      <th>state_po</th>\n",
              "      <th>state_fips</th>\n",
              "      <th>state_cen</th>\n",
              "      <th>state_ic</th>\n",
              "      <th>county</th>\n",
              "      <th>office</th>\n",
              "      <th>district</th>\n",
              "      <th>stage</th>\n",
              "      <th>special</th>\n",
              "      <th>rank</th>\n",
              "      <th>candidate</th>\n",
              "      <th>party</th>\n",
              "      <th>writein</th>\n",
              "      <th>mode</th>\n",
              "      <th>candidatevotes</th>\n",
              "      <th>totalvotes</th>\n",
              "      <th>unofficial</th>\n",
              "      <th>version</th>\n",
              "    </tr>\n",
              "  </thead>\n",
              "  <tbody>\n",
              "    <tr>\n",
              "      <th>54580</th>\n",
              "      <td>2018</td>\n",
              "      <td>Illinois</td>\n",
              "      <td>IL</td>\n",
              "      <td>17</td>\n",
              "      <td>33</td>\n",
              "      <td>21</td>\n",
              "      <td>Adams</td>\n",
              "      <td>Attorney General</td>\n",
              "      <td>statewide</td>\n",
              "      <td>gen</td>\n",
              "      <td>False</td>\n",
              "      <td>NaN</td>\n",
              "      <td>Bubba Harsy</td>\n",
              "      <td>libertarian</td>\n",
              "      <td>False</td>\n",
              "      <td>total</td>\n",
              "      <td>597.0</td>\n",
              "      <td>4548409.0</td>\n",
              "      <td>False</td>\n",
              "      <td>20190430</td>\n",
              "    </tr>\n",
              "    <tr>\n",
              "      <th>54581</th>\n",
              "      <td>2018</td>\n",
              "      <td>Illinois</td>\n",
              "      <td>IL</td>\n",
              "      <td>17</td>\n",
              "      <td>33</td>\n",
              "      <td>21</td>\n",
              "      <td>Adams</td>\n",
              "      <td>Attorney General</td>\n",
              "      <td>statewide</td>\n",
              "      <td>gen</td>\n",
              "      <td>False</td>\n",
              "      <td>NaN</td>\n",
              "      <td>Erika Harold</td>\n",
              "      <td>republican</td>\n",
              "      <td>False</td>\n",
              "      <td>total</td>\n",
              "      <td>17910.0</td>\n",
              "      <td>4548409.0</td>\n",
              "      <td>False</td>\n",
              "      <td>20190430</td>\n",
              "    </tr>\n",
              "    <tr>\n",
              "      <th>54582</th>\n",
              "      <td>2018</td>\n",
              "      <td>Illinois</td>\n",
              "      <td>IL</td>\n",
              "      <td>17</td>\n",
              "      <td>33</td>\n",
              "      <td>21</td>\n",
              "      <td>Adams</td>\n",
              "      <td>Attorney General</td>\n",
              "      <td>statewide</td>\n",
              "      <td>gen</td>\n",
              "      <td>False</td>\n",
              "      <td>NaN</td>\n",
              "      <td>Kwame Raoul</td>\n",
              "      <td>democrat</td>\n",
              "      <td>False</td>\n",
              "      <td>total</td>\n",
              "      <td>5748.0</td>\n",
              "      <td>4548409.0</td>\n",
              "      <td>False</td>\n",
              "      <td>20190430</td>\n",
              "    </tr>\n",
              "    <tr>\n",
              "      <th>54583</th>\n",
              "      <td>2018</td>\n",
              "      <td>Illinois</td>\n",
              "      <td>IL</td>\n",
              "      <td>17</td>\n",
              "      <td>33</td>\n",
              "      <td>21</td>\n",
              "      <td>Adams</td>\n",
              "      <td>Comptroller</td>\n",
              "      <td>statewide</td>\n",
              "      <td>gen</td>\n",
              "      <td>False</td>\n",
              "      <td>NaN</td>\n",
              "      <td>Claire Ball</td>\n",
              "      <td>libertarian</td>\n",
              "      <td>False</td>\n",
              "      <td>total</td>\n",
              "      <td>730.0</td>\n",
              "      <td>4535759.0</td>\n",
              "      <td>False</td>\n",
              "      <td>20190430</td>\n",
              "    </tr>\n",
              "    <tr>\n",
              "      <th>54584</th>\n",
              "      <td>2018</td>\n",
              "      <td>Illinois</td>\n",
              "      <td>IL</td>\n",
              "      <td>17</td>\n",
              "      <td>33</td>\n",
              "      <td>21</td>\n",
              "      <td>Adams</td>\n",
              "      <td>Comptroller</td>\n",
              "      <td>statewide</td>\n",
              "      <td>gen</td>\n",
              "      <td>False</td>\n",
              "      <td>NaN</td>\n",
              "      <td>Darlene Senger</td>\n",
              "      <td>republican</td>\n",
              "      <td>False</td>\n",
              "      <td>total</td>\n",
              "      <td>15853.0</td>\n",
              "      <td>4535759.0</td>\n",
              "      <td>False</td>\n",
              "      <td>20190430</td>\n",
              "    </tr>\n",
              "  </tbody>\n",
              "</table>\n",
              "</div>"
            ],
            "text/plain": [
              "       year     state state_po  ...  totalvotes  unofficial   version\n",
              "54580  2018  Illinois       IL  ...   4548409.0       False  20190430\n",
              "54581  2018  Illinois       IL  ...   4548409.0       False  20190430\n",
              "54582  2018  Illinois       IL  ...   4548409.0       False  20190430\n",
              "54583  2018  Illinois       IL  ...   4535759.0       False  20190430\n",
              "54584  2018  Illinois       IL  ...   4535759.0       False  20190430\n",
              "\n",
              "[5 rows x 20 columns]"
            ]
          },
          "metadata": {
            "tags": []
          },
          "execution_count": 5
        }
      ]
    },
    {
      "cell_type": "markdown",
      "metadata": {
        "id": "rNGMgAxU3Md_",
        "colab_type": "text"
      },
      "source": [
        "**Demographic data** is sourced using the [uszipcode](https://uszipcode.readthedocs.io/index.html) python library."
      ]
    },
    {
      "cell_type": "code",
      "metadata": {
        "id": "wqc4Q0s-FHoN",
        "colab_type": "code",
        "colab": {
          "base_uri": "https://localhost:8080/",
          "height": 228
        },
        "outputId": "20617d76-422d-466c-c6ed-43336fe9cb21"
      },
      "source": [
        "!pip install uszipcode"
      ],
      "execution_count": 6,
      "outputs": [
        {
          "output_type": "stream",
          "text": [
            "Requirement already satisfied: uszipcode in /usr/local/lib/python3.6/dist-packages (0.2.4)\n",
            "Requirement already satisfied: pathlib-mate in /usr/local/lib/python3.6/dist-packages (from uszipcode) (1.0.0)\n",
            "Requirement already satisfied: requests in /usr/local/lib/python3.6/dist-packages (from uszipcode) (2.23.0)\n",
            "Requirement already satisfied: attrs in /usr/local/lib/python3.6/dist-packages (from uszipcode) (19.3.0)\n",
            "Requirement already satisfied: sqlalchemy in /usr/local/lib/python3.6/dist-packages (from uszipcode) (1.3.18)\n",
            "Requirement already satisfied: six in /usr/local/lib/python3.6/dist-packages (from pathlib-mate->uszipcode) (1.15.0)\n",
            "Requirement already satisfied: autopep8 in /usr/local/lib/python3.6/dist-packages (from pathlib-mate->uszipcode) (1.5.3)\n",
            "Requirement already satisfied: chardet<4,>=3.0.2 in /usr/local/lib/python3.6/dist-packages (from requests->uszipcode) (3.0.4)\n",
            "Requirement already satisfied: idna<3,>=2.5 in /usr/local/lib/python3.6/dist-packages (from requests->uszipcode) (2.10)\n",
            "Requirement already satisfied: certifi>=2017.4.17 in /usr/local/lib/python3.6/dist-packages (from requests->uszipcode) (2020.6.20)\n",
            "Requirement already satisfied: urllib3!=1.25.0,!=1.25.1,<1.26,>=1.21.1 in /usr/local/lib/python3.6/dist-packages (from requests->uszipcode) (1.24.3)\n",
            "Requirement already satisfied: toml in /usr/local/lib/python3.6/dist-packages (from autopep8->pathlib-mate->uszipcode) (0.10.1)\n",
            "Requirement already satisfied: pycodestyle>=2.6.0 in /usr/local/lib/python3.6/dist-packages (from autopep8->pathlib-mate->uszipcode) (2.6.0)\n"
          ],
          "name": "stdout"
        }
      ]
    },
    {
      "cell_type": "code",
      "metadata": {
        "id": "aOBbRY0oFXQP",
        "colab_type": "code",
        "colab": {}
      },
      "source": [
        "from uszipcode import SearchEngine, SimpleZipcode"
      ],
      "execution_count": 7,
      "outputs": []
    },
    {
      "cell_type": "markdown",
      "metadata": {
        "id": "CynkKMDeimGf",
        "colab_type": "text"
      },
      "source": [
        "Sample data outputof the `uszipcode` database."
      ]
    },
    {
      "cell_type": "code",
      "metadata": {
        "id": "Qr5S2a2NFb3Q",
        "colab_type": "code",
        "colab": {
          "base_uri": "https://localhost:8080/",
          "height": 53
        },
        "outputId": "133b7a02-2cbd-40de-fb9a-cbb1e356fc15"
      },
      "source": [
        "search = SearchEngine(simple_zipcode=True)\n",
        "zipcode = search.by_zipcode('60193')\n",
        "zipcode"
      ],
      "execution_count": 8,
      "outputs": [
        {
          "output_type": "execute_result",
          "data": {
            "text/plain": [
              "SimpleZipcode(zipcode='60193', zipcode_type='Standard', major_city='Schaumburg', post_office_city='Schaumburg, IL', common_city_list=['Schaumburg'], county='Cook County', state='IL', lat=42.01, lng=-88.09, timezone='Central', radius_in_miles=4.0, area_code_list=['224', '312', '630', '708', '847'], population=39188, population_density=4289.0, land_area_in_sqmi=9.14, water_area_in_sqmi=0.03, housing_units=16649, occupied_housing_units=16019, median_home_value=257100, median_household_income=72939, bounds_west=-88.154324, bounds_east=-88.031254, bounds_north=42.029954, bounds_south=41.988685)"
            ]
          },
          "metadata": {
            "tags": []
          },
          "execution_count": 8
        }
      ]
    },
    {
      "cell_type": "markdown",
      "metadata": {
        "id": "qnG0laqx5bn1",
        "colab_type": "text"
      },
      "source": [
        "**Foursquare** data for information on individual neighbourhoods."
      ]
    },
    {
      "cell_type": "code",
      "metadata": {
        "id": "wvxwY2Mg59E-",
        "colab_type": "code",
        "colab": {}
      },
      "source": [
        "# Foursquare credentials\n",
        "CLIENT_ID='0M35HSSAZ1L2QPGP5LAKSPMBUUDTERESBKXLNZRQMUCEVJYS'\n",
        "CLIENT_SECRET='QWIGICNR1KXB3RU5Y5LRJFH03RANUYOVRKNTUTO0KCONHAGQ'\n",
        "VERSION='20200623'\n",
        "LIMIT=100"
      ],
      "execution_count": 9,
      "outputs": []
    },
    {
      "cell_type": "code",
      "metadata": {
        "id": "h673Uglg6CGA",
        "colab_type": "code",
        "colab": {}
      },
      "source": [
        "# Function for querying Foursquare\n",
        "def getNearbyVenues(names, latitudes, longitudes, radius=500):\n",
        "    \n",
        "    venues_list=[]\n",
        "    for name, lat, lng in zip(names, latitudes, longitudes):\n",
        "        #print(name)\n",
        "            \n",
        "        # create the API request URL\n",
        "        url = 'https://api.foursquare.com/v2/venues/explore?&client_id={}&client_secret={}&v={}&ll={},{}&radius={}&limit={}'.format(\n",
        "            CLIENT_ID, \n",
        "            CLIENT_SECRET, \n",
        "            VERSION, \n",
        "            lat, \n",
        "            lng, \n",
        "            radius, \n",
        "            LIMIT)\n",
        "            \n",
        "        # make the GET request\n",
        "        #results = requests.get(url).json()[\"response\"]['groups'][0]['items']\n",
        "        # Alternate approach due to KeyError on \"groups\"\n",
        "        results = requests.get(url).json()[\"response\"].get('groups')[0]['items']\n",
        "        \n",
        "        # return only relevant information for each nearby venue\n",
        "        venues_list.append([(\n",
        "            name, \n",
        "            lat, \n",
        "            lng, \n",
        "            v['venue']['name'], \n",
        "            v['venue']['location']['lat'], \n",
        "            v['venue']['location']['lng'],  \n",
        "            v['venue']['categories'][0]['name']) for v in results])\n",
        "        \n",
        "        # Prevent disconnect\n",
        "        time.sleep(0.05)\n",
        "\n",
        "    nearby_venues = pd.DataFrame([item for venue_list in venues_list for item in venue_list])\n",
        "    nearby_venues.columns = ['Zip', \n",
        "                  'Zip Latitude', \n",
        "                  'Zip Longitude', \n",
        "                  'Venue', \n",
        "                  'Venue Latitude', \n",
        "                  'Venue Longitude', \n",
        "                  'Venue Category']\n",
        "    \n",
        "    return(nearby_venues)"
      ],
      "execution_count": 10,
      "outputs": []
    },
    {
      "cell_type": "markdown",
      "metadata": {
        "id": "Eo_elipwiujS",
        "colab_type": "text"
      },
      "source": [
        "Sample output of the Foursquare api"
      ]
    },
    {
      "cell_type": "code",
      "metadata": {
        "id": "Kt5P2YF66O5X",
        "colab_type": "code",
        "colab": {
          "base_uri": "https://localhost:8080/",
          "height": 76
        },
        "outputId": "e95666e0-244b-4d3a-a0f1-559e136f4593"
      },
      "source": [
        "# Example data\n",
        "schaumburg = getNearbyVenues(\n",
        "    names=['Schaumburg'],\n",
        "    latitudes=[42.01],\n",
        "    longitudes=[-88.09]\n",
        "  )\n",
        "schaumburg.head()"
      ],
      "execution_count": 11,
      "outputs": [
        {
          "output_type": "execute_result",
          "data": {
            "text/html": [
              "<div>\n",
              "<style scoped>\n",
              "    .dataframe tbody tr th:only-of-type {\n",
              "        vertical-align: middle;\n",
              "    }\n",
              "\n",
              "    .dataframe tbody tr th {\n",
              "        vertical-align: top;\n",
              "    }\n",
              "\n",
              "    .dataframe thead th {\n",
              "        text-align: right;\n",
              "    }\n",
              "</style>\n",
              "<table border=\"1\" class=\"dataframe\">\n",
              "  <thead>\n",
              "    <tr style=\"text-align: right;\">\n",
              "      <th></th>\n",
              "      <th>Zip</th>\n",
              "      <th>Zip Latitude</th>\n",
              "      <th>Zip Longitude</th>\n",
              "      <th>Venue</th>\n",
              "      <th>Venue Latitude</th>\n",
              "      <th>Venue Longitude</th>\n",
              "      <th>Venue Category</th>\n",
              "    </tr>\n",
              "  </thead>\n",
              "  <tbody>\n",
              "    <tr>\n",
              "      <th>0</th>\n",
              "      <td>Schaumburg</td>\n",
              "      <td>42.01</td>\n",
              "      <td>-88.09</td>\n",
              "      <td>Sue Garcia Fitness</td>\n",
              "      <td>42.01383</td>\n",
              "      <td>-88.092864</td>\n",
              "      <td>Gym / Fitness Center</td>\n",
              "    </tr>\n",
              "  </tbody>\n",
              "</table>\n",
              "</div>"
            ],
            "text/plain": [
              "          Zip  Zip Latitude  ...  Venue Longitude        Venue Category\n",
              "0  Schaumburg         42.01  ...       -88.092864  Gym / Fitness Center\n",
              "\n",
              "[1 rows x 7 columns]"
            ]
          },
          "metadata": {
            "tags": []
          },
          "execution_count": 11
        }
      ]
    },
    {
      "cell_type": "markdown",
      "metadata": {
        "id": "dMiEHR_MBmdU",
        "colab_type": "text"
      },
      "source": [
        "# Methodology  \n",
        "\n",
        "Our aim is to assess the impact of political persuasion or ideology on the use of government financial assistance. To this end we will narrow our focus to two states at opposing ends of the political spectrum.\n",
        "\n",
        "[This](https://www.270towin.com/same-since-electoral-maps/) website contains visualisations of state level electoral results over varying time periods.  Missouri and Illinois have voted Republican and Democrat respectively, on a consistent basis over the past 20 years.   Missouri and Illinois are neighbours and therefore are expected to have similar industries and economies.  This is important to our analysis as these are the type of characteristics we wish to control for.\n",
        "\n",
        "For Missouri and Illinois, we will gather characteristics at zipcode level, and group zipcodes into similar regions.  These regions will be agnostic with respect to political persuasion and loan uptake.\n",
        "\n",
        "For example, we may find zipcodes in both states that are low population density, high manufacturing industry density, medium income and high density of leisure venues.  This would constitute one group.  We can then assess the political persuasion of each zipcode in this group from electoral data, and finally determine if this results in differing level of loan uptake.  \n",
        "\n",
        "In summary, the rates of loan uptake will be assessed by comparing the count and value of loans issued by geographical regions known to be of differing political persuasion.  In performing this assessment, confounding characteristics will be isolated and held constant."
      ]
    },
    {
      "cell_type": "markdown",
      "metadata": {
        "id": "5tw_1XjQJ8d2",
        "colab_type": "text"
      },
      "source": [
        "### We start by exploring the **SBA-PPP loan** data.  \n",
        "\n",
        "Unique zipcodes for Missouri and Illinois"
      ]
    },
    {
      "cell_type": "code",
      "metadata": {
        "id": "5yuytAHrKC98",
        "colab_type": "code",
        "colab": {
          "base_uri": "https://localhost:8080/",
          "height": 115
        },
        "outputId": "07cca694-c7e0-4b52-cdc7-8e8504f1897b"
      },
      "source": [
        "print('Count of unique zipcodes in Missouri:', ppp_raw[ppp_raw['State'] == 'MO']['Zip'].nunique())\n",
        "print()\n",
        "print('Count of unique zipcodes in Illlinois:', ppp_raw[ppp_raw['State'] == 'IL']['Zip'].nunique())\n",
        "print()\n",
        "print('Loan size buckets:', ppp_raw[ppp_raw['State'].isin(['IL','MO'])]['LoanRange'].unique())"
      ],
      "execution_count": 12,
      "outputs": [
        {
          "output_type": "stream",
          "text": [
            "Count of unique zipcodes in Missouri: 601\n",
            "\n",
            "Count of unique zipcodes in Illlinois: 953\n",
            "\n",
            "Loan size buckets: ['a $5-10 million' 'b $2-5 million' 'c $1-2 million'\n",
            " 'd $350,000-1 million' 'e $150,000-350,000']\n"
          ],
          "name": "stdout"
        }
      ]
    },
    {
      "cell_type": "code",
      "metadata": {
        "id": "IAOL3BRF6xq2",
        "colab_type": "code",
        "colab": {
          "base_uri": "https://localhost:8080/",
          "height": 606
        },
        "outputId": "c0ca3167-5a9d-447d-bbda-97fe73afdb26"
      },
      "source": [
        "sns.set_palette(sns.color_palette(\"Blues\"))\n",
        "data = ppp_raw[ppp_raw['State'].isin(['IL','MO'])].groupby('LoanRange').count().reset_index()\n",
        "plt.figure(figsize=(12, 10))\n",
        "sns.barplot(x='LoanRange', y=\"Zip\", data=data).set(ylabel = 'Count of loans')\n",
        "plt.show()"
      ],
      "execution_count": 13,
      "outputs": [
        {
          "output_type": "display_data",
          "data": {
            "image/png": "[encoded data removed]",
            "text/plain": [
              "<Figure size 864x720 with 1 Axes>"
            ]
          },
          "metadata": {
            "tags": [],
            "needs_background": "light"
          }
        }
      ]
    },
    {
      "cell_type": "markdown",
      "metadata": {
        "id": "_EiPdrPUWvEk",
        "colab_type": "text"
      },
      "source": [
        "Loans in the range of 150 to 350 thousand dollars are most frequent.  The amount of loans increase inversely with the value. Nothing surprising there.\n",
        "\n",
        "In order to get this dataframe ready for analyse we need to assign a value to the loan size banding, group by zipcode and sum the loan amount."
      ]
    },
    {
      "cell_type": "code",
      "metadata": {
        "id": "u4cYLx61XMd9",
        "colab_type": "code",
        "colab": {
          "base_uri": "https://localhost:8080/",
          "height": 191
        },
        "outputId": "40e50d81-716f-48e2-ce45-7324bb2623fb"
      },
      "source": [
        "ppp = ppp_raw[(ppp_raw['State'] == 'MO') | (ppp_raw['State'] == 'IL')][['LoanRange','Zip']].copy()\n",
        "\n",
        "# Function to map amount\n",
        "def amt_map(row):\n",
        "  if row['LoanRange'] == 'a $5-10 million':\n",
        "    return 7500\n",
        "  elif row['LoanRange'] == 'b $2-5 million':\n",
        "    return 3500 \n",
        "  elif row['LoanRange'] == 'c $1-2 million':\n",
        "    return 1500 \n",
        "  elif row['LoanRange'] == 'd $350,000-1 million':\n",
        "    return 775 \n",
        "  else:\n",
        "    return 250\n",
        "\n",
        "# Apply function\n",
        "ppp['loan_amount'] = ppp.apply(amt_map, axis=1)\n",
        "\n",
        "ppp = ppp.groupby('Zip')['loan_amount'].sum().reset_index()\n",
        "\n",
        "ppp.head()"
      ],
      "execution_count": 14,
      "outputs": [
        {
          "output_type": "execute_result",
          "data": {
            "text/html": [
              "<div>\n",
              "<style scoped>\n",
              "    .dataframe tbody tr th:only-of-type {\n",
              "        vertical-align: middle;\n",
              "    }\n",
              "\n",
              "    .dataframe tbody tr th {\n",
              "        vertical-align: top;\n",
              "    }\n",
              "\n",
              "    .dataframe thead th {\n",
              "        text-align: right;\n",
              "    }\n",
              "</style>\n",
              "<table border=\"1\" class=\"dataframe\">\n",
              "  <thead>\n",
              "    <tr style=\"text-align: right;\">\n",
              "      <th></th>\n",
              "      <th>Zip</th>\n",
              "      <th>loan_amount</th>\n",
              "    </tr>\n",
              "  </thead>\n",
              "  <tbody>\n",
              "    <tr>\n",
              "      <th>0</th>\n",
              "      <td>4459</td>\n",
              "      <td>1500</td>\n",
              "    </tr>\n",
              "    <tr>\n",
              "      <th>1</th>\n",
              "      <td>46375</td>\n",
              "      <td>250</td>\n",
              "    </tr>\n",
              "    <tr>\n",
              "      <th>2</th>\n",
              "      <td>46947</td>\n",
              "      <td>775</td>\n",
              "    </tr>\n",
              "    <tr>\n",
              "      <th>3</th>\n",
              "      <td>60002</td>\n",
              "      <td>18425</td>\n",
              "    </tr>\n",
              "    <tr>\n",
              "      <th>4</th>\n",
              "      <td>60004</td>\n",
              "      <td>77175</td>\n",
              "    </tr>\n",
              "  </tbody>\n",
              "</table>\n",
              "</div>"
            ],
            "text/plain": [
              "     Zip  loan_amount\n",
              "0   4459         1500\n",
              "1  46375          250\n",
              "2  46947          775\n",
              "3  60002        18425\n",
              "4  60004        77175"
            ]
          },
          "metadata": {
            "tags": []
          },
          "execution_count": 14
        }
      ]
    },
    {
      "cell_type": "markdown",
      "metadata": {
        "id": "5neOMMtNO2Kv",
        "colab_type": "text"
      },
      "source": [
        "Lastly, we neem to put the zipcodes for Missouri and Illinois in a dataframe.  This will be used when get to extracting data from the **uszipcode** data api."
      ]
    },
    {
      "cell_type": "code",
      "metadata": {
        "id": "x1XDCxbTO5PK",
        "colab_type": "code",
        "colab": {
          "base_uri": "https://localhost:8080/",
          "height": 191
        },
        "outputId": "c47ea8f8-c637-4ebc-e75d-17d76a948441"
      },
      "source": [
        "mo_il_zips = ppp_raw[ppp_raw['State'].isin(['IL','MO'])]['Zip'].unique()\n",
        "mo_il_zips = pd.DataFrame(data=mo_il_zips, columns=['Zip'])\n",
        "mo_il_zips['Zip'] = mo_il_zips['Zip'].astype(int)\n",
        "mo_il_zips['Zip'] = mo_il_zips['Zip'].astype(str)\n",
        "mo_il_zips = mo_il_zips.sort_values(['Zip'])\n",
        "mo_il_zips.head()"
      ],
      "execution_count": 15,
      "outputs": [
        {
          "output_type": "execute_result",
          "data": {
            "text/html": [
              "<div>\n",
              "<style scoped>\n",
              "    .dataframe tbody tr th:only-of-type {\n",
              "        vertical-align: middle;\n",
              "    }\n",
              "\n",
              "    .dataframe tbody tr th {\n",
              "        vertical-align: top;\n",
              "    }\n",
              "\n",
              "    .dataframe thead th {\n",
              "        text-align: right;\n",
              "    }\n",
              "</style>\n",
              "<table border=\"1\" class=\"dataframe\">\n",
              "  <thead>\n",
              "    <tr style=\"text-align: right;\">\n",
              "      <th></th>\n",
              "      <th>Zip</th>\n",
              "    </tr>\n",
              "  </thead>\n",
              "  <tbody>\n",
              "    <tr>\n",
              "      <th>520</th>\n",
              "      <td>4459</td>\n",
              "    </tr>\n",
              "    <tr>\n",
              "      <th>938</th>\n",
              "      <td>46375</td>\n",
              "    </tr>\n",
              "    <tr>\n",
              "      <th>688</th>\n",
              "      <td>46947</td>\n",
              "    </tr>\n",
              "    <tr>\n",
              "      <th>431</th>\n",
              "      <td>60002</td>\n",
              "    </tr>\n",
              "    <tr>\n",
              "      <th>78</th>\n",
              "      <td>60004</td>\n",
              "    </tr>\n",
              "  </tbody>\n",
              "</table>\n",
              "</div>"
            ],
            "text/plain": [
              "       Zip\n",
              "520   4459\n",
              "938  46375\n",
              "688  46947\n",
              "431  60002\n",
              "78   60004"
            ]
          },
          "metadata": {
            "tags": []
          },
          "execution_count": 15
        }
      ]
    },
    {
      "cell_type": "markdown",
      "metadata": {
        "id": "Q8_C9Qh0WsUL",
        "colab_type": "text"
      },
      "source": [
        "### Moving to the **MIT Election Data**\n",
        "\n",
        "This data is held at county level.  Fortunately [this](https://www.unitedstateszipcodes.org/zip-code-database/) website has a downloadable csv containing all US zipcodes, with the county in wich they reside.  I have saved this data to my google drive, and also to Github."
      ]
    },
    {
      "cell_type": "code",
      "metadata": {
        "id": "BdyxkNbAX0GA",
        "colab_type": "code",
        "colab": {}
      },
      "source": [
        "#zip_to_county_raw = pd.read_csv('gdrive/My Drive/zip_code_database.csv')\n",
        "#zip_to_county_raw[zip_to_county_raw['state'] == 'IL'].head()"
      ],
      "execution_count": 16,
      "outputs": []
    },
    {
      "cell_type": "code",
      "metadata": {
        "id": "yIvBbrJPKv0W",
        "colab_type": "code",
        "colab": {
          "base_uri": "https://localhost:8080/",
          "height": 292
        },
        "outputId": "834ff724-961d-4381-f173-726573e7e048"
      },
      "source": [
        "zip_to_county_raw = pd.read_csv('https://raw.githubusercontent.com/Brent-Morrison/Coursera_Capstone/master/zip_code_database.csv')\n",
        "zip_to_county_raw[zip_to_county_raw['state'] == 'IL'].head()"
      ],
      "execution_count": 17,
      "outputs": [
        {
          "output_type": "execute_result",
          "data": {
            "text/html": [
              "<div>\n",
              "<style scoped>\n",
              "    .dataframe tbody tr th:only-of-type {\n",
              "        vertical-align: middle;\n",
              "    }\n",
              "\n",
              "    .dataframe tbody tr th {\n",
              "        vertical-align: top;\n",
              "    }\n",
              "\n",
              "    .dataframe thead th {\n",
              "        text-align: right;\n",
              "    }\n",
              "</style>\n",
              "<table border=\"1\" class=\"dataframe\">\n",
              "  <thead>\n",
              "    <tr style=\"text-align: right;\">\n",
              "      <th></th>\n",
              "      <th>zip</th>\n",
              "      <th>type</th>\n",
              "      <th>decommissioned</th>\n",
              "      <th>primary_city</th>\n",
              "      <th>acceptable_cities</th>\n",
              "      <th>unacceptable_cities</th>\n",
              "      <th>state</th>\n",
              "      <th>county</th>\n",
              "      <th>timezone</th>\n",
              "      <th>area_codes</th>\n",
              "      <th>world_region</th>\n",
              "      <th>country</th>\n",
              "      <th>latitude</th>\n",
              "      <th>longitude</th>\n",
              "      <th>irs_estimated_population_2015</th>\n",
              "    </tr>\n",
              "  </thead>\n",
              "  <tbody>\n",
              "    <tr>\n",
              "      <th>26327</th>\n",
              "      <td>60001</td>\n",
              "      <td>PO BOX</td>\n",
              "      <td>0</td>\n",
              "      <td>Alden</td>\n",
              "      <td>NaN</td>\n",
              "      <td>NaN</td>\n",
              "      <td>IL</td>\n",
              "      <td>McHenry County</td>\n",
              "      <td>America/Chicago</td>\n",
              "      <td>NaN</td>\n",
              "      <td>NaN</td>\n",
              "      <td>US</td>\n",
              "      <td>42.45</td>\n",
              "      <td>-88.53</td>\n",
              "      <td>13</td>\n",
              "    </tr>\n",
              "    <tr>\n",
              "      <th>26328</th>\n",
              "      <td>60002</td>\n",
              "      <td>STANDARD</td>\n",
              "      <td>0</td>\n",
              "      <td>Antioch</td>\n",
              "      <td>Old Mill Creek, Old Mill Crk</td>\n",
              "      <td>Wadsworth</td>\n",
              "      <td>IL</td>\n",
              "      <td>Lake County</td>\n",
              "      <td>America/Chicago</td>\n",
              "      <td>224,847</td>\n",
              "      <td>NaN</td>\n",
              "      <td>US</td>\n",
              "      <td>42.47</td>\n",
              "      <td>-88.07</td>\n",
              "      <td>23150</td>\n",
              "    </tr>\n",
              "    <tr>\n",
              "      <th>26329</th>\n",
              "      <td>60004</td>\n",
              "      <td>STANDARD</td>\n",
              "      <td>0</td>\n",
              "      <td>Arlington Heights</td>\n",
              "      <td>Arlington Hts</td>\n",
              "      <td>NaN</td>\n",
              "      <td>IL</td>\n",
              "      <td>Cook County</td>\n",
              "      <td>America/Chicago</td>\n",
              "      <td>847,224</td>\n",
              "      <td>NaN</td>\n",
              "      <td>US</td>\n",
              "      <td>42.09</td>\n",
              "      <td>-87.98</td>\n",
              "      <td>52270</td>\n",
              "    </tr>\n",
              "    <tr>\n",
              "      <th>26330</th>\n",
              "      <td>60005</td>\n",
              "      <td>STANDARD</td>\n",
              "      <td>0</td>\n",
              "      <td>Arlington Heights</td>\n",
              "      <td>Arlington Hts</td>\n",
              "      <td>NaN</td>\n",
              "      <td>IL</td>\n",
              "      <td>Cook County</td>\n",
              "      <td>America/Chicago</td>\n",
              "      <td>224,630,708,773,847</td>\n",
              "      <td>NaN</td>\n",
              "      <td>US</td>\n",
              "      <td>42.06</td>\n",
              "      <td>-87.99</td>\n",
              "      <td>29710</td>\n",
              "    </tr>\n",
              "    <tr>\n",
              "      <th>26331</th>\n",
              "      <td>60006</td>\n",
              "      <td>PO BOX</td>\n",
              "      <td>0</td>\n",
              "      <td>Arlington Heights</td>\n",
              "      <td>Arlington Hts</td>\n",
              "      <td>NaN</td>\n",
              "      <td>IL</td>\n",
              "      <td>Cook County</td>\n",
              "      <td>America/Chicago</td>\n",
              "      <td>224</td>\n",
              "      <td>NaN</td>\n",
              "      <td>US</td>\n",
              "      <td>42.09</td>\n",
              "      <td>-87.98</td>\n",
              "      <td>204</td>\n",
              "    </tr>\n",
              "  </tbody>\n",
              "</table>\n",
              "</div>"
            ],
            "text/plain": [
              "         zip      type  ...  longitude irs_estimated_population_2015\n",
              "26327  60001    PO BOX  ...     -88.53                            13\n",
              "26328  60002  STANDARD  ...     -88.07                         23150\n",
              "26329  60004  STANDARD  ...     -87.98                         52270\n",
              "26330  60005  STANDARD  ...     -87.99                         29710\n",
              "26331  60006    PO BOX  ...     -87.98                           204\n",
              "\n",
              "[5 rows x 15 columns]"
            ]
          },
          "metadata": {
            "tags": []
          },
          "execution_count": 17
        }
      ]
    },
    {
      "cell_type": "markdown",
      "metadata": {
        "id": "hSy_YZawbuXv",
        "colab_type": "text"
      },
      "source": [
        "The code below joins the zipcode details to the election data.\n",
        "\n",
        "This results in a data frame (`elctn_county_zip`) containing the Democrat and Republican vote for each zipcode in Missouri and Illinois.  Note that the voting percentages are identical for each zipcode within a County.  \n",
        "\n",
        "This is because the election results are held at County level."
      ]
    },
    {
      "cell_type": "code",
      "metadata": {
        "id": "9R0wA7cAcDJk",
        "colab_type": "code",
        "colab": {
          "base_uri": "https://localhost:8080/",
          "height": 191
        },
        "outputId": "c019d900-783d-4eef-9dca-705ff7d7cbb9"
      },
      "source": [
        "# Reshape election data to return county level Democrat and Republican voting percentages\n",
        "elctn_zip = elctn_county[elctn_county['state_po'].isin(['IL','MO'])][['state_po','county','party','candidatevotes']] \\\n",
        "  .pivot_table(index=['state_po','county'], columns='party', values='candidatevotes', aggfunc=np.sum, fill_value=0)\n",
        "elctn_zip['dem_perc'] = elctn_zip['democrat'] / elctn_zip.sum(axis=1)\n",
        "elctn_zip['rep_perc'] = elctn_zip['republican'] / elctn_zip.sum(axis=1)\n",
        "elctn_zip = elctn_zip.filter(['dem_perc','rep_perc']).reset_index()\n",
        "\n",
        "# Summarise the zip to county data\n",
        "zip_to_county = zip_to_county_raw[zip_to_county_raw['state'].isin(['IL','MO'])][['state','county','zip','latitude','longitude','irs_estimated_population_2015']]\n",
        "zip_to_county['county'] = zip_to_county['county'].str.replace(pat=' County', repl='')\n",
        "\n",
        "# Join\n",
        "elctn_county_zip = pd.merge(elctn_zip, zip_to_county, how='left', on='county')\n",
        "\n",
        "# Since there are zipcodes across states, we need to drop duplicates\n",
        "elctn_county_zip.drop_duplicates(subset='zip',inplace=True)\n",
        "\n",
        "elctn_county_zip.head()"
      ],
      "execution_count": 18,
      "outputs": [
        {
          "output_type": "execute_result",
          "data": {
            "text/html": [
              "<div>\n",
              "<style scoped>\n",
              "    .dataframe tbody tr th:only-of-type {\n",
              "        vertical-align: middle;\n",
              "    }\n",
              "\n",
              "    .dataframe tbody tr th {\n",
              "        vertical-align: top;\n",
              "    }\n",
              "\n",
              "    .dataframe thead th {\n",
              "        text-align: right;\n",
              "    }\n",
              "</style>\n",
              "<table border=\"1\" class=\"dataframe\">\n",
              "  <thead>\n",
              "    <tr style=\"text-align: right;\">\n",
              "      <th></th>\n",
              "      <th>state_po</th>\n",
              "      <th>county</th>\n",
              "      <th>dem_perc</th>\n",
              "      <th>rep_perc</th>\n",
              "      <th>state</th>\n",
              "      <th>zip</th>\n",
              "      <th>latitude</th>\n",
              "      <th>longitude</th>\n",
              "      <th>irs_estimated_population_2015</th>\n",
              "    </tr>\n",
              "  </thead>\n",
              "  <tbody>\n",
              "    <tr>\n",
              "      <th>0</th>\n",
              "      <td>IL</td>\n",
              "      <td>Adams</td>\n",
              "      <td>0.263344</td>\n",
              "      <td>0.711595</td>\n",
              "      <td>IL</td>\n",
              "      <td>62301.0</td>\n",
              "      <td>39.93</td>\n",
              "      <td>-91.38</td>\n",
              "      <td>27280.0</td>\n",
              "    </tr>\n",
              "    <tr>\n",
              "      <th>1</th>\n",
              "      <td>IL</td>\n",
              "      <td>Adams</td>\n",
              "      <td>0.263344</td>\n",
              "      <td>0.711595</td>\n",
              "      <td>IL</td>\n",
              "      <td>62305.0</td>\n",
              "      <td>39.93</td>\n",
              "      <td>-91.34</td>\n",
              "      <td>18060.0</td>\n",
              "    </tr>\n",
              "    <tr>\n",
              "      <th>2</th>\n",
              "      <td>IL</td>\n",
              "      <td>Adams</td>\n",
              "      <td>0.263344</td>\n",
              "      <td>0.711595</td>\n",
              "      <td>IL</td>\n",
              "      <td>62306.0</td>\n",
              "      <td>39.93</td>\n",
              "      <td>-91.38</td>\n",
              "      <td>329.0</td>\n",
              "    </tr>\n",
              "    <tr>\n",
              "      <th>3</th>\n",
              "      <td>IL</td>\n",
              "      <td>Adams</td>\n",
              "      <td>0.263344</td>\n",
              "      <td>0.711595</td>\n",
              "      <td>IL</td>\n",
              "      <td>62320.0</td>\n",
              "      <td>40.03</td>\n",
              "      <td>-91.06</td>\n",
              "      <td>1990.0</td>\n",
              "    </tr>\n",
              "    <tr>\n",
              "      <th>4</th>\n",
              "      <td>IL</td>\n",
              "      <td>Adams</td>\n",
              "      <td>0.263344</td>\n",
              "      <td>0.711595</td>\n",
              "      <td>IL</td>\n",
              "      <td>62324.0</td>\n",
              "      <td>40.03</td>\n",
              "      <td>-90.95</td>\n",
              "      <td>1190.0</td>\n",
              "    </tr>\n",
              "  </tbody>\n",
              "</table>\n",
              "</div>"
            ],
            "text/plain": [
              "  state_po county  dem_perc  ...  latitude longitude  irs_estimated_population_2015\n",
              "0       IL  Adams  0.263344  ...     39.93    -91.38                        27280.0\n",
              "1       IL  Adams  0.263344  ...     39.93    -91.34                        18060.0\n",
              "2       IL  Adams  0.263344  ...     39.93    -91.38                          329.0\n",
              "3       IL  Adams  0.263344  ...     40.03    -91.06                         1990.0\n",
              "4       IL  Adams  0.263344  ...     40.03    -90.95                         1190.0\n",
              "\n",
              "[5 rows x 9 columns]"
            ]
          },
          "metadata": {
            "tags": []
          },
          "execution_count": 18
        }
      ]
    },
    {
      "cell_type": "code",
      "metadata": {
        "id": "WP6WwePY5Rui",
        "colab_type": "code",
        "colab": {
          "base_uri": "https://localhost:8080/",
          "height": 50
        },
        "outputId": "04d1d239-8551-4803-d2fd-79ee1c77d215"
      },
      "source": [
        "print('Total population of Illinois and Missouri:',elctn_county_zip['irs_estimated_population_2015'].sum())\n",
        "print('Uniqueness test:',len(elctn_county_zip['zip'].unique()) / len(elctn_county_zip))"
      ],
      "execution_count": 19,
      "outputs": [
        {
          "output_type": "stream",
          "text": [
            "Total population of Illinois and Missouri: 15235846.0\n",
            "Uniqueness test: 1.0\n"
          ],
          "name": "stdout"
        }
      ]
    },
    {
      "cell_type": "markdown",
      "metadata": {
        "id": "rjswNlNRL-hO",
        "colab_type": "text"
      },
      "source": [
        "At this stage we note that we have circa 2,600 individual zip codes.  That is more than expected, and we may need to perform our analysis on a sample of these zip codes.  It would be surprising if Foursquare has data for this entire region."
      ]
    },
    {
      "cell_type": "markdown",
      "metadata": {
        "id": "RSim77g7OxxV",
        "colab_type": "text"
      },
      "source": [
        "### Turning now to the **demographic data**\n",
        "\n",
        "This [SO answer](https://stackoverflow.com/questions/55011880/typeerror-zipcode-object-is-not-subscriptable) provides a nice helper to create a dataframe from the uszipcode query function.  \n",
        "\n",
        "The data frame returned filters for zipcodes in the `mo_il_zips` created earlier."
      ]
    },
    {
      "cell_type": "code",
      "metadata": {
        "id": "F7RKW3f5Ut3H",
        "colab_type": "code",
        "colab": {
          "base_uri": "https://localhost:8080/",
          "height": 33
        },
        "outputId": "aa4efe3b-bb6e-434d-fbe1-464ad38bdb87"
      },
      "source": [
        "query = (\n",
        "  search.ses.query(\n",
        "      SimpleZipcode.zipcode.label('zip'),\n",
        "      SimpleZipcode.major_city.label('city'),\n",
        "      SimpleZipcode.county.label('county'),\n",
        "      SimpleZipcode.state.label('state'),\n",
        "      SimpleZipcode.lat.label('lat'),\n",
        "      SimpleZipcode.lng.label('lng'),\n",
        "      SimpleZipcode.population.label('population'),\n",
        "      SimpleZipcode.population_density.label('population_density'),\n",
        "      SimpleZipcode.median_home_value.label('median_home_value'),\n",
        "      SimpleZipcode.median_household_income.label('median_household_income'),\n",
        "      SimpleZipcode.housing_units.label('housing_units'),\n",
        "      SimpleZipcode.occupied_housing_units.label('occupied_housing_units'),\n",
        "      )\n",
        "  .filter(SimpleZipcode.zipcode.in_(mo_il_zips['Zip'].dropna().unique()))\n",
        "  ).selectable\n",
        "demographics = pd.read_sql_query(query, search.ses.connection(), index_col='zip')\n",
        "demographics['county'] = demographics['county'].str.replace(pat=' County', repl='')\n",
        "demographics.index = demographics.index.astype('int64')\n",
        "demographics.shape"
      ],
      "execution_count": 20,
      "outputs": [
        {
          "output_type": "execute_result",
          "data": {
            "text/plain": [
              "(1553, 11)"
            ]
          },
          "metadata": {
            "tags": []
          },
          "execution_count": 20
        }
      ]
    },
    {
      "cell_type": "code",
      "metadata": {
        "id": "heGaXPmYBo-7",
        "colab_type": "code",
        "colab": {
          "base_uri": "https://localhost:8080/",
          "height": 220
        },
        "outputId": "ef12f5d0-4710-468f-8315-d6c38ceefbde"
      },
      "source": [
        "demographics.head()"
      ],
      "execution_count": 21,
      "outputs": [
        {
          "output_type": "execute_result",
          "data": {
            "text/html": [
              "<div>\n",
              "<style scoped>\n",
              "    .dataframe tbody tr th:only-of-type {\n",
              "        vertical-align: middle;\n",
              "    }\n",
              "\n",
              "    .dataframe tbody tr th {\n",
              "        vertical-align: top;\n",
              "    }\n",
              "\n",
              "    .dataframe thead th {\n",
              "        text-align: right;\n",
              "    }\n",
              "</style>\n",
              "<table border=\"1\" class=\"dataframe\">\n",
              "  <thead>\n",
              "    <tr style=\"text-align: right;\">\n",
              "      <th></th>\n",
              "      <th>city</th>\n",
              "      <th>county</th>\n",
              "      <th>state</th>\n",
              "      <th>lat</th>\n",
              "      <th>lng</th>\n",
              "      <th>population</th>\n",
              "      <th>population_density</th>\n",
              "      <th>median_home_value</th>\n",
              "      <th>median_household_income</th>\n",
              "      <th>housing_units</th>\n",
              "      <th>occupied_housing_units</th>\n",
              "    </tr>\n",
              "    <tr>\n",
              "      <th>zip</th>\n",
              "      <th></th>\n",
              "      <th></th>\n",
              "      <th></th>\n",
              "      <th></th>\n",
              "      <th></th>\n",
              "      <th></th>\n",
              "      <th></th>\n",
              "      <th></th>\n",
              "      <th></th>\n",
              "      <th></th>\n",
              "      <th></th>\n",
              "    </tr>\n",
              "  </thead>\n",
              "  <tbody>\n",
              "    <tr>\n",
              "      <th>46375</th>\n",
              "      <td>Schererville</td>\n",
              "      <td>Lake</td>\n",
              "      <td>IN</td>\n",
              "      <td>41.49</td>\n",
              "      <td>-87.44</td>\n",
              "      <td>23820.0</td>\n",
              "      <td>1758.0</td>\n",
              "      <td>213800.0</td>\n",
              "      <td>74276.0</td>\n",
              "      <td>9984.0</td>\n",
              "      <td>9600.0</td>\n",
              "    </tr>\n",
              "    <tr>\n",
              "      <th>46947</th>\n",
              "      <td>Logansport</td>\n",
              "      <td>Cass</td>\n",
              "      <td>IN</td>\n",
              "      <td>40.70</td>\n",
              "      <td>-86.40</td>\n",
              "      <td>28866.0</td>\n",
              "      <td>156.0</td>\n",
              "      <td>75100.0</td>\n",
              "      <td>38946.0</td>\n",
              "      <td>12130.0</td>\n",
              "      <td>10901.0</td>\n",
              "    </tr>\n",
              "    <tr>\n",
              "      <th>60002</th>\n",
              "      <td>Antioch</td>\n",
              "      <td>Lake</td>\n",
              "      <td>IL</td>\n",
              "      <td>42.50</td>\n",
              "      <td>-88.10</td>\n",
              "      <td>24299.0</td>\n",
              "      <td>745.0</td>\n",
              "      <td>219600.0</td>\n",
              "      <td>78250.0</td>\n",
              "      <td>10548.0</td>\n",
              "      <td>9153.0</td>\n",
              "    </tr>\n",
              "    <tr>\n",
              "      <th>60004</th>\n",
              "      <td>Arlington Heights</td>\n",
              "      <td>Cook</td>\n",
              "      <td>IL</td>\n",
              "      <td>42.11</td>\n",
              "      <td>-87.98</td>\n",
              "      <td>50582.0</td>\n",
              "      <td>4564.0</td>\n",
              "      <td>332700.0</td>\n",
              "      <td>79892.0</td>\n",
              "      <td>21177.0</td>\n",
              "      <td>20013.0</td>\n",
              "    </tr>\n",
              "    <tr>\n",
              "      <th>60005</th>\n",
              "      <td>Arlington Heights</td>\n",
              "      <td>Cook</td>\n",
              "      <td>IL</td>\n",
              "      <td>42.06</td>\n",
              "      <td>-87.98</td>\n",
              "      <td>29308.0</td>\n",
              "      <td>4470.0</td>\n",
              "      <td>293300.0</td>\n",
              "      <td>69484.0</td>\n",
              "      <td>13484.0</td>\n",
              "      <td>12635.0</td>\n",
              "    </tr>\n",
              "  </tbody>\n",
              "</table>\n",
              "</div>"
            ],
            "text/plain": [
              "                    city county  ... housing_units  occupied_housing_units\n",
              "zip                              ...                                      \n",
              "46375       Schererville   Lake  ...        9984.0                  9600.0\n",
              "46947         Logansport   Cass  ...       12130.0                 10901.0\n",
              "60002            Antioch   Lake  ...       10548.0                  9153.0\n",
              "60004  Arlington Heights   Cook  ...       21177.0                 20013.0\n",
              "60005  Arlington Heights   Cook  ...       13484.0                 12635.0\n",
              "\n",
              "[5 rows x 11 columns]"
            ]
          },
          "metadata": {
            "tags": []
          },
          "execution_count": 21
        }
      ]
    },
    {
      "cell_type": "markdown",
      "metadata": {
        "id": "kehZ0g-L-0lK",
        "colab_type": "text"
      },
      "source": [
        "Lets check that the zip index is unique.  The snippet below divides the unique index values by the length of the dataframe, hence a value of 1 represents uniqueness."
      ]
    },
    {
      "cell_type": "code",
      "metadata": {
        "id": "lDZEzjGnM0A4",
        "colab_type": "code",
        "colab": {
          "base_uri": "https://localhost:8080/",
          "height": 33
        },
        "outputId": "8941d2ff-dd91-4373-92f6-6429e2a918b4"
      },
      "source": [
        " # Check uniqueness of index\n",
        "len(demographics.index.get_level_values('zip').unique()) / len(demographics) "
      ],
      "execution_count": 22,
      "outputs": [
        {
          "output_type": "execute_result",
          "data": {
            "text/plain": [
              "1.0"
            ]
          },
          "metadata": {
            "tags": []
          },
          "execution_count": 22
        }
      ]
    },
    {
      "cell_type": "markdown",
      "metadata": {
        "id": "ttcAq5nDP0M6",
        "colab_type": "text"
      },
      "source": [
        "### Bringing it together\n",
        "\n",
        "We now have three data frames at the zipcode level.\n",
        "1. `ppp` - containing the loan amount\n",
        "2. `elctn_county_zip` - containing election results\n",
        "3. `demographics` - containing the demographic data\n",
        "\n",
        "It's time to join these together."
      ]
    },
    {
      "cell_type": "code",
      "metadata": {
        "id": "OH1NlTJVQUE1",
        "colab_type": "code",
        "colab": {}
      },
      "source": [
        "#Set indexes for joining\n",
        "\n",
        "# Zip to index\n",
        "ppp.set_index('Zip', inplace=True)\n",
        "\n",
        "# Zip to index, with a bit of messing\n",
        "elctn_county_zip['zip'] = elctn_county_zip['zip'].fillna(0)\n",
        "elctn_county_zip['zip'] = elctn_county_zip['zip'].astype('int64')\n",
        "elctn_county_zip.set_index('zip', inplace=True)"
      ],
      "execution_count": 23,
      "outputs": []
    },
    {
      "cell_type": "code",
      "metadata": {
        "id": "0c-pv-NTOTmK",
        "colab_type": "code",
        "colab": {
          "base_uri": "https://localhost:8080/",
          "height": 98
        },
        "outputId": "124a4c33-f33b-403f-cd11-c85fc91312f1"
      },
      "source": [
        "# Check the index types\n",
        "print('ppp data frame index type:', ppp.index.get_level_values(0).dtype)\n",
        "print()\n",
        "print('elctn_county_zip data frame index type:', elctn_county_zip.index.get_level_values(0).dtype)\n",
        "print()\n",
        "print('demographics data frame index type:', demographics.index.get_level_values(0).dtype)"
      ],
      "execution_count": 24,
      "outputs": [
        {
          "output_type": "stream",
          "text": [
            "ppp data frame index type: int64\n",
            "\n",
            "elctn_county_zip data frame index type: int64\n",
            "\n",
            "demographics data frame index type: int64\n"
          ],
          "name": "stdout"
        }
      ]
    },
    {
      "cell_type": "code",
      "metadata": {
        "id": "jhoxDYAeg9GT",
        "colab_type": "code",
        "colab": {}
      },
      "source": [
        "# Join loan and demographic data\n",
        "loan_elctn_demo = ppp.join(demographics)"
      ],
      "execution_count": 25,
      "outputs": []
    },
    {
      "cell_type": "code",
      "metadata": {
        "id": "8z4RT5MNVLdY",
        "colab_type": "code",
        "colab": {}
      },
      "source": [
        "# Join loan, demographics and election data\n",
        "loan_elctn_demo = loan_elctn_demo.join(elctn_county_zip, rsuffix='_elctn')"
      ],
      "execution_count": 26,
      "outputs": []
    },
    {
      "cell_type": "code",
      "metadata": {
        "id": "Mc70uXVKRGfa",
        "colab_type": "code",
        "colab": {
          "base_uri": "https://localhost:8080/",
          "height": 33
        },
        "outputId": "07910cfa-8cd0-4b97-b016-49b7ecaffb43"
      },
      "source": [
        "loan_elctn_demo.shape"
      ],
      "execution_count": 27,
      "outputs": [
        {
          "output_type": "execute_result",
          "data": {
            "text/plain": [
              "(1554, 20)"
            ]
          },
          "metadata": {
            "tags": []
          },
          "execution_count": 27
        }
      ]
    },
    {
      "cell_type": "code",
      "metadata": {
        "id": "4KI4iABtCN8R",
        "colab_type": "code",
        "colab": {
          "base_uri": "https://localhost:8080/",
          "height": 256
        },
        "outputId": "51030c69-ddf4-4d40-e9f3-d94af3407fd0"
      },
      "source": [
        "loan_elctn_demo.head()"
      ],
      "execution_count": 28,
      "outputs": [
        {
          "output_type": "execute_result",
          "data": {
            "text/html": [
              "<div>\n",
              "<style scoped>\n",
              "    .dataframe tbody tr th:only-of-type {\n",
              "        vertical-align: middle;\n",
              "    }\n",
              "\n",
              "    .dataframe tbody tr th {\n",
              "        vertical-align: top;\n",
              "    }\n",
              "\n",
              "    .dataframe thead th {\n",
              "        text-align: right;\n",
              "    }\n",
              "</style>\n",
              "<table border=\"1\" class=\"dataframe\">\n",
              "  <thead>\n",
              "    <tr style=\"text-align: right;\">\n",
              "      <th></th>\n",
              "      <th>loan_amount</th>\n",
              "      <th>city</th>\n",
              "      <th>county</th>\n",
              "      <th>state</th>\n",
              "      <th>lat</th>\n",
              "      <th>lng</th>\n",
              "      <th>population</th>\n",
              "      <th>population_density</th>\n",
              "      <th>median_home_value</th>\n",
              "      <th>median_household_income</th>\n",
              "      <th>housing_units</th>\n",
              "      <th>occupied_housing_units</th>\n",
              "      <th>state_po</th>\n",
              "      <th>county_elctn</th>\n",
              "      <th>dem_perc</th>\n",
              "      <th>rep_perc</th>\n",
              "      <th>state_elctn</th>\n",
              "      <th>latitude</th>\n",
              "      <th>longitude</th>\n",
              "      <th>irs_estimated_population_2015</th>\n",
              "    </tr>\n",
              "    <tr>\n",
              "      <th>Zip</th>\n",
              "      <th></th>\n",
              "      <th></th>\n",
              "      <th></th>\n",
              "      <th></th>\n",
              "      <th></th>\n",
              "      <th></th>\n",
              "      <th></th>\n",
              "      <th></th>\n",
              "      <th></th>\n",
              "      <th></th>\n",
              "      <th></th>\n",
              "      <th></th>\n",
              "      <th></th>\n",
              "      <th></th>\n",
              "      <th></th>\n",
              "      <th></th>\n",
              "      <th></th>\n",
              "      <th></th>\n",
              "      <th></th>\n",
              "      <th></th>\n",
              "    </tr>\n",
              "  </thead>\n",
              "  <tbody>\n",
              "    <tr>\n",
              "      <th>4459</th>\n",
              "      <td>1500</td>\n",
              "      <td>NaN</td>\n",
              "      <td>NaN</td>\n",
              "      <td>NaN</td>\n",
              "      <td>NaN</td>\n",
              "      <td>NaN</td>\n",
              "      <td>NaN</td>\n",
              "      <td>NaN</td>\n",
              "      <td>NaN</td>\n",
              "      <td>NaN</td>\n",
              "      <td>NaN</td>\n",
              "      <td>NaN</td>\n",
              "      <td>NaN</td>\n",
              "      <td>NaN</td>\n",
              "      <td>NaN</td>\n",
              "      <td>NaN</td>\n",
              "      <td>NaN</td>\n",
              "      <td>NaN</td>\n",
              "      <td>NaN</td>\n",
              "      <td>NaN</td>\n",
              "    </tr>\n",
              "    <tr>\n",
              "      <th>46375</th>\n",
              "      <td>250</td>\n",
              "      <td>Schererville</td>\n",
              "      <td>Lake</td>\n",
              "      <td>IN</td>\n",
              "      <td>41.49</td>\n",
              "      <td>-87.44</td>\n",
              "      <td>23820.0</td>\n",
              "      <td>1758.0</td>\n",
              "      <td>213800.0</td>\n",
              "      <td>74276.0</td>\n",
              "      <td>9984.0</td>\n",
              "      <td>9600.0</td>\n",
              "      <td>NaN</td>\n",
              "      <td>NaN</td>\n",
              "      <td>NaN</td>\n",
              "      <td>NaN</td>\n",
              "      <td>NaN</td>\n",
              "      <td>NaN</td>\n",
              "      <td>NaN</td>\n",
              "      <td>NaN</td>\n",
              "    </tr>\n",
              "    <tr>\n",
              "      <th>46947</th>\n",
              "      <td>775</td>\n",
              "      <td>Logansport</td>\n",
              "      <td>Cass</td>\n",
              "      <td>IN</td>\n",
              "      <td>40.70</td>\n",
              "      <td>-86.40</td>\n",
              "      <td>28866.0</td>\n",
              "      <td>156.0</td>\n",
              "      <td>75100.0</td>\n",
              "      <td>38946.0</td>\n",
              "      <td>12130.0</td>\n",
              "      <td>10901.0</td>\n",
              "      <td>NaN</td>\n",
              "      <td>NaN</td>\n",
              "      <td>NaN</td>\n",
              "      <td>NaN</td>\n",
              "      <td>NaN</td>\n",
              "      <td>NaN</td>\n",
              "      <td>NaN</td>\n",
              "      <td>NaN</td>\n",
              "    </tr>\n",
              "    <tr>\n",
              "      <th>60002</th>\n",
              "      <td>18425</td>\n",
              "      <td>Antioch</td>\n",
              "      <td>Lake</td>\n",
              "      <td>IL</td>\n",
              "      <td>42.50</td>\n",
              "      <td>-88.10</td>\n",
              "      <td>24299.0</td>\n",
              "      <td>745.0</td>\n",
              "      <td>219600.0</td>\n",
              "      <td>78250.0</td>\n",
              "      <td>10548.0</td>\n",
              "      <td>9153.0</td>\n",
              "      <td>IL</td>\n",
              "      <td>Lake</td>\n",
              "      <td>0.576495</td>\n",
              "      <td>0.402627</td>\n",
              "      <td>IL</td>\n",
              "      <td>42.47</td>\n",
              "      <td>-88.07</td>\n",
              "      <td>23150.0</td>\n",
              "    </tr>\n",
              "    <tr>\n",
              "      <th>60004</th>\n",
              "      <td>77175</td>\n",
              "      <td>Arlington Heights</td>\n",
              "      <td>Cook</td>\n",
              "      <td>IL</td>\n",
              "      <td>42.11</td>\n",
              "      <td>-87.98</td>\n",
              "      <td>50582.0</td>\n",
              "      <td>4564.0</td>\n",
              "      <td>332700.0</td>\n",
              "      <td>79892.0</td>\n",
              "      <td>21177.0</td>\n",
              "      <td>20013.0</td>\n",
              "      <td>IL</td>\n",
              "      <td>Cook</td>\n",
              "      <td>0.782682</td>\n",
              "      <td>0.196504</td>\n",
              "      <td>IL</td>\n",
              "      <td>42.09</td>\n",
              "      <td>-87.98</td>\n",
              "      <td>52270.0</td>\n",
              "    </tr>\n",
              "  </tbody>\n",
              "</table>\n",
              "</div>"
            ],
            "text/plain": [
              "       loan_amount               city  ... longitude irs_estimated_population_2015\n",
              "Zip                                    ...                                        \n",
              "4459          1500                NaN  ...       NaN                           NaN\n",
              "46375          250       Schererville  ...       NaN                           NaN\n",
              "46947          775         Logansport  ...       NaN                           NaN\n",
              "60002        18425            Antioch  ...    -88.07                       23150.0\n",
              "60004        77175  Arlington Heights  ...    -87.98                       52270.0\n",
              "\n",
              "[5 rows x 20 columns]"
            ]
          },
          "metadata": {
            "tags": []
          },
          "execution_count": 28
        }
      ]
    },
    {
      "cell_type": "markdown",
      "metadata": {
        "id": "MwVgsN9CiVgm",
        "colab_type": "text"
      },
      "source": [
        "### Re-shaping the loan, election and demographic data\n",
        "\n",
        "The data frame above requires further manipulation, we need to:\n",
        "\n",
        "1. Create a binary indicator for political persuasion `party`\n",
        "2. Select only the required column\n",
        "3. Remove rows with NaN's  \n",
        " \n"
      ]
    },
    {
      "cell_type": "code",
      "metadata": {
        "id": "IByMuxX4RQZV",
        "colab_type": "code",
        "colab": {
          "base_uri": "https://localhost:8080/",
          "height": 33
        },
        "outputId": "fa7d2261-d908-47ed-9cfd-0dc3ebfbfa39"
      },
      "source": [
        "# Function to map amount\n",
        "def party(row):\n",
        "  if row['dem_perc'] > .6:\n",
        "    return 'dem'\n",
        "  elif row['rep_perc'] > .6:\n",
        "    return 'rep'\n",
        "  else:\n",
        "    return 'other'\n",
        "\n",
        "# Apply function\n",
        "loan_elctn_demo['party'] = loan_elctn_demo.apply(party, axis=1)\n",
        "loan_elctn_demo['perc_occ_housing_units'] = loan_elctn_demo['occupied_housing_units'] / loan_elctn_demo['housing_units']\n",
        "loan_elctn_demo_smmry = loan_elctn_demo[['party','state','loan_amount','lat','lng','population','population_density','perc_occ_housing_units','median_home_value','median_household_income']].copy()\n",
        "loan_elctn_demo_smmry.dropna(axis=0, how='any', inplace=True)\n",
        "loan_elctn_demo_smmry.shape"
      ],
      "execution_count": 29,
      "outputs": [
        {
          "output_type": "execute_result",
          "data": {
            "text/plain": [
              "(1454, 10)"
            ]
          },
          "metadata": {
            "tags": []
          },
          "execution_count": 29
        }
      ]
    },
    {
      "cell_type": "code",
      "metadata": {
        "id": "0JnvUCC3CjuE",
        "colab_type": "code",
        "colab": {
          "base_uri": "https://localhost:8080/",
          "height": 220
        },
        "outputId": "1239be03-5c4e-4493-8b8a-97cf4d258d3f"
      },
      "source": [
        "loan_elctn_demo_smmry.head()"
      ],
      "execution_count": 30,
      "outputs": [
        {
          "output_type": "execute_result",
          "data": {
            "text/html": [
              "<div>\n",
              "<style scoped>\n",
              "    .dataframe tbody tr th:only-of-type {\n",
              "        vertical-align: middle;\n",
              "    }\n",
              "\n",
              "    .dataframe tbody tr th {\n",
              "        vertical-align: top;\n",
              "    }\n",
              "\n",
              "    .dataframe thead th {\n",
              "        text-align: right;\n",
              "    }\n",
              "</style>\n",
              "<table border=\"1\" class=\"dataframe\">\n",
              "  <thead>\n",
              "    <tr style=\"text-align: right;\">\n",
              "      <th></th>\n",
              "      <th>party</th>\n",
              "      <th>state</th>\n",
              "      <th>loan_amount</th>\n",
              "      <th>lat</th>\n",
              "      <th>lng</th>\n",
              "      <th>population</th>\n",
              "      <th>population_density</th>\n",
              "      <th>perc_occ_housing_units</th>\n",
              "      <th>median_home_value</th>\n",
              "      <th>median_household_income</th>\n",
              "    </tr>\n",
              "    <tr>\n",
              "      <th>Zip</th>\n",
              "      <th></th>\n",
              "      <th></th>\n",
              "      <th></th>\n",
              "      <th></th>\n",
              "      <th></th>\n",
              "      <th></th>\n",
              "      <th></th>\n",
              "      <th></th>\n",
              "      <th></th>\n",
              "      <th></th>\n",
              "    </tr>\n",
              "  </thead>\n",
              "  <tbody>\n",
              "    <tr>\n",
              "      <th>46375</th>\n",
              "      <td>other</td>\n",
              "      <td>IN</td>\n",
              "      <td>250</td>\n",
              "      <td>41.49</td>\n",
              "      <td>-87.44</td>\n",
              "      <td>23820.0</td>\n",
              "      <td>1758.0</td>\n",
              "      <td>0.961538</td>\n",
              "      <td>213800.0</td>\n",
              "      <td>74276.0</td>\n",
              "    </tr>\n",
              "    <tr>\n",
              "      <th>46947</th>\n",
              "      <td>other</td>\n",
              "      <td>IN</td>\n",
              "      <td>775</td>\n",
              "      <td>40.70</td>\n",
              "      <td>-86.40</td>\n",
              "      <td>28866.0</td>\n",
              "      <td>156.0</td>\n",
              "      <td>0.898681</td>\n",
              "      <td>75100.0</td>\n",
              "      <td>38946.0</td>\n",
              "    </tr>\n",
              "    <tr>\n",
              "      <th>60002</th>\n",
              "      <td>other</td>\n",
              "      <td>IL</td>\n",
              "      <td>18425</td>\n",
              "      <td>42.50</td>\n",
              "      <td>-88.10</td>\n",
              "      <td>24299.0</td>\n",
              "      <td>745.0</td>\n",
              "      <td>0.867747</td>\n",
              "      <td>219600.0</td>\n",
              "      <td>78250.0</td>\n",
              "    </tr>\n",
              "    <tr>\n",
              "      <th>60004</th>\n",
              "      <td>dem</td>\n",
              "      <td>IL</td>\n",
              "      <td>77175</td>\n",
              "      <td>42.11</td>\n",
              "      <td>-87.98</td>\n",
              "      <td>50582.0</td>\n",
              "      <td>4564.0</td>\n",
              "      <td>0.945035</td>\n",
              "      <td>332700.0</td>\n",
              "      <td>79892.0</td>\n",
              "    </tr>\n",
              "    <tr>\n",
              "      <th>60005</th>\n",
              "      <td>dem</td>\n",
              "      <td>IL</td>\n",
              "      <td>108550</td>\n",
              "      <td>42.06</td>\n",
              "      <td>-87.98</td>\n",
              "      <td>29308.0</td>\n",
              "      <td>4470.0</td>\n",
              "      <td>0.937036</td>\n",
              "      <td>293300.0</td>\n",
              "      <td>69484.0</td>\n",
              "    </tr>\n",
              "  </tbody>\n",
              "</table>\n",
              "</div>"
            ],
            "text/plain": [
              "       party state  ...  median_home_value  median_household_income\n",
              "Zip                 ...                                            \n",
              "46375  other    IN  ...           213800.0                  74276.0\n",
              "46947  other    IN  ...            75100.0                  38946.0\n",
              "60002  other    IL  ...           219600.0                  78250.0\n",
              "60004    dem    IL  ...           332700.0                  79892.0\n",
              "60005    dem    IL  ...           293300.0                  69484.0\n",
              "\n",
              "[5 rows x 10 columns]"
            ]
          },
          "metadata": {
            "tags": []
          },
          "execution_count": 30
        }
      ]
    },
    {
      "cell_type": "markdown",
      "metadata": {
        "id": "nCMQ5pJPVfBs",
        "colab_type": "text"
      },
      "source": [
        "Our data set contains nearly 1,500 zipcodes.  The Foursquare free api is not going to return that level of requests.  We will need to compress our sample. \n",
        "\n",
        "We will select the top 20 zipcodes by state and political party by population.\n",
        "\n"
      ]
    },
    {
      "cell_type": "code",
      "metadata": {
        "id": "9gNfNutCi8ga",
        "colab_type": "code",
        "colab": {
          "base_uri": "https://localhost:8080/",
          "height": 33
        },
        "outputId": "2673d9a6-d1d8-4b51-c80b-6ad5501a7b27"
      },
      "source": [
        "loan_elctn_demo_sample = loan_elctn_demo_smmry.reset_index(level=0, inplace=True)\n",
        "loan_elctn_demo_sample = loan_elctn_demo_smmry[loan_elctn_demo_smmry['party'].isin(['dem','rep'])].groupby(['party','state']).apply(lambda x: x.nlargest(20,'population')).reset_index(drop=True).copy()\n",
        "loan_elctn_demo_sample.shape"
      ],
      "execution_count": 31,
      "outputs": [
        {
          "output_type": "execute_result",
          "data": {
            "text/plain": [
              "(80, 11)"
            ]
          },
          "metadata": {
            "tags": []
          },
          "execution_count": 31
        }
      ]
    },
    {
      "cell_type": "code",
      "metadata": {
        "id": "xy_A3u-bCys5",
        "colab_type": "code",
        "colab": {
          "base_uri": "https://localhost:8080/",
          "height": 191
        },
        "outputId": "cf27bc5e-f533-46ab-8e2b-8547c3c5d976"
      },
      "source": [
        "loan_elctn_demo_sample.head()"
      ],
      "execution_count": 32,
      "outputs": [
        {
          "output_type": "execute_result",
          "data": {
            "text/html": [
              "<div>\n",
              "<style scoped>\n",
              "    .dataframe tbody tr th:only-of-type {\n",
              "        vertical-align: middle;\n",
              "    }\n",
              "\n",
              "    .dataframe tbody tr th {\n",
              "        vertical-align: top;\n",
              "    }\n",
              "\n",
              "    .dataframe thead th {\n",
              "        text-align: right;\n",
              "    }\n",
              "</style>\n",
              "<table border=\"1\" class=\"dataframe\">\n",
              "  <thead>\n",
              "    <tr style=\"text-align: right;\">\n",
              "      <th></th>\n",
              "      <th>Zip</th>\n",
              "      <th>party</th>\n",
              "      <th>state</th>\n",
              "      <th>loan_amount</th>\n",
              "      <th>lat</th>\n",
              "      <th>lng</th>\n",
              "      <th>population</th>\n",
              "      <th>population_density</th>\n",
              "      <th>perc_occ_housing_units</th>\n",
              "      <th>median_home_value</th>\n",
              "      <th>median_household_income</th>\n",
              "    </tr>\n",
              "  </thead>\n",
              "  <tbody>\n",
              "    <tr>\n",
              "      <th>0</th>\n",
              "      <td>60629</td>\n",
              "      <td>dem</td>\n",
              "      <td>IL</td>\n",
              "      <td>21750</td>\n",
              "      <td>41.78</td>\n",
              "      <td>-87.70</td>\n",
              "      <td>113916.0</td>\n",
              "      <td>16726.0</td>\n",
              "      <td>0.885706</td>\n",
              "      <td>159700.0</td>\n",
              "      <td>40650.0</td>\n",
              "    </tr>\n",
              "    <tr>\n",
              "      <th>1</th>\n",
              "      <td>60623</td>\n",
              "      <td>dem</td>\n",
              "      <td>IL</td>\n",
              "      <td>47000</td>\n",
              "      <td>41.84</td>\n",
              "      <td>-87.72</td>\n",
              "      <td>92108.0</td>\n",
              "      <td>17196.0</td>\n",
              "      <td>0.832110</td>\n",
              "      <td>155600.0</td>\n",
              "      <td>28949.0</td>\n",
              "    </tr>\n",
              "    <tr>\n",
              "      <th>2</th>\n",
              "      <td>60618</td>\n",
              "      <td>dem</td>\n",
              "      <td>IL</td>\n",
              "      <td>77800</td>\n",
              "      <td>41.95</td>\n",
              "      <td>-87.70</td>\n",
              "      <td>92084.0</td>\n",
              "      <td>18195.0</td>\n",
              "      <td>0.895314</td>\n",
              "      <td>336300.0</td>\n",
              "      <td>55577.0</td>\n",
              "    </tr>\n",
              "    <tr>\n",
              "      <th>3</th>\n",
              "      <td>60632</td>\n",
              "      <td>dem</td>\n",
              "      <td>IL</td>\n",
              "      <td>108625</td>\n",
              "      <td>41.82</td>\n",
              "      <td>-87.69</td>\n",
              "      <td>91326.0</td>\n",
              "      <td>12297.0</td>\n",
              "      <td>0.890453</td>\n",
              "      <td>177800.0</td>\n",
              "      <td>38545.0</td>\n",
              "    </tr>\n",
              "    <tr>\n",
              "      <th>4</th>\n",
              "      <td>60639</td>\n",
              "      <td>dem</td>\n",
              "      <td>IL</td>\n",
              "      <td>56575</td>\n",
              "      <td>41.92</td>\n",
              "      <td>-87.76</td>\n",
              "      <td>90407.0</td>\n",
              "      <td>18537.0</td>\n",
              "      <td>0.894050</td>\n",
              "      <td>206800.0</td>\n",
              "      <td>38707.0</td>\n",
              "    </tr>\n",
              "  </tbody>\n",
              "</table>\n",
              "</div>"
            ],
            "text/plain": [
              "     Zip party  ... median_home_value  median_household_income\n",
              "0  60629   dem  ...          159700.0                  40650.0\n",
              "1  60623   dem  ...          155600.0                  28949.0\n",
              "2  60618   dem  ...          336300.0                  55577.0\n",
              "3  60632   dem  ...          177800.0                  38545.0\n",
              "4  60639   dem  ...          206800.0                  38707.0\n",
              "\n",
              "[5 rows x 11 columns]"
            ]
          },
          "metadata": {
            "tags": []
          },
          "execution_count": 32
        }
      ]
    },
    {
      "cell_type": "markdown",
      "metadata": {
        "id": "DRU2E3sIrXln",
        "colab_type": "text"
      },
      "source": [
        "### Foursquare data\n",
        "\n",
        "The cell below contains the earlier defined function that grabs the Foursquare data.  \n",
        "\n",
        "Earlier iterations of this notebook have saved the output of this function to a csv in my google drive account.  The data was saved in this manner due to volatility in the results returned by the Foursquare api. "
      ]
    },
    {
      "cell_type": "code",
      "metadata": {
        "id": "KGj82l6msnp3",
        "colab_type": "code",
        "colab": {}
      },
      "source": [
        "# For control logic.  \n",
        "# - 'drive' to extract from drive csv, \n",
        "# - 'fsq' to use Foursquare api directly\n",
        "\n",
        "source = 'drive'"
      ],
      "execution_count": 33,
      "outputs": []
    },
    {
      "cell_type": "code",
      "metadata": {
        "id": "ZK3_gQC8sohX",
        "colab_type": "code",
        "colab": {}
      },
      "source": [
        "if source == 'drive':\n",
        "  fsq_raw = pd.read_csv('gdrive/My Drive/fsq2.csv')\n",
        "else:\n",
        "  fsq_raw = getNearbyVenues(\n",
        "    names=loan_elctn_demo_sample['Zip'],\n",
        "    latitudes=loan_elctn_demo_sample['lat'],\n",
        "    longitudes=loan_elctn_demo_sample['lng']\n",
        "  )\n",
        "  fsq_raw.to_csv('gdrive/My Drive/fsq3.csv')\n"
      ],
      "execution_count": 34,
      "outputs": []
    },
    {
      "cell_type": "markdown",
      "metadata": {
        "id": "0N2kHY7-r5dP",
        "colab_type": "text"
      },
      "source": [
        "The resultant data frame."
      ]
    },
    {
      "cell_type": "code",
      "metadata": {
        "id": "Wxr-auG5wXqW",
        "colab_type": "code",
        "colab": {
          "base_uri": "https://localhost:8080/",
          "height": 191
        },
        "outputId": "02305a96-db8a-44f5-8f25-05336e8167e5"
      },
      "source": [
        "fsq_raw.head()"
      ],
      "execution_count": 35,
      "outputs": [
        {
          "output_type": "execute_result",
          "data": {
            "text/html": [
              "<div>\n",
              "<style scoped>\n",
              "    .dataframe tbody tr th:only-of-type {\n",
              "        vertical-align: middle;\n",
              "    }\n",
              "\n",
              "    .dataframe tbody tr th {\n",
              "        vertical-align: top;\n",
              "    }\n",
              "\n",
              "    .dataframe thead th {\n",
              "        text-align: right;\n",
              "    }\n",
              "</style>\n",
              "<table border=\"1\" class=\"dataframe\">\n",
              "  <thead>\n",
              "    <tr style=\"text-align: right;\">\n",
              "      <th></th>\n",
              "      <th>Unnamed: 0</th>\n",
              "      <th>Zip</th>\n",
              "      <th>Zip Latitude</th>\n",
              "      <th>Zip Longitude</th>\n",
              "      <th>Venue</th>\n",
              "      <th>Venue Latitude</th>\n",
              "      <th>Venue Longitude</th>\n",
              "      <th>Venue Category</th>\n",
              "    </tr>\n",
              "  </thead>\n",
              "  <tbody>\n",
              "    <tr>\n",
              "      <th>0</th>\n",
              "      <td>0</td>\n",
              "      <td>60629</td>\n",
              "      <td>41.78</td>\n",
              "      <td>-87.7</td>\n",
              "      <td>Quality Beauty Supply</td>\n",
              "      <td>41.779010</td>\n",
              "      <td>-87.704119</td>\n",
              "      <td>Cosmetics Shop</td>\n",
              "    </tr>\n",
              "    <tr>\n",
              "      <th>1</th>\n",
              "      <td>1</td>\n",
              "      <td>60629</td>\n",
              "      <td>41.78</td>\n",
              "      <td>-87.7</td>\n",
              "      <td>Pepe's Mexican Restaurant</td>\n",
              "      <td>41.778816</td>\n",
              "      <td>-87.704435</td>\n",
              "      <td>Mexican Restaurant</td>\n",
              "    </tr>\n",
              "    <tr>\n",
              "      <th>2</th>\n",
              "      <td>2</td>\n",
              "      <td>60629</td>\n",
              "      <td>41.78</td>\n",
              "      <td>-87.7</td>\n",
              "      <td>7-Eleven</td>\n",
              "      <td>41.782835</td>\n",
              "      <td>-87.702767</td>\n",
              "      <td>Convenience Store</td>\n",
              "    </tr>\n",
              "    <tr>\n",
              "      <th>3</th>\n",
              "      <td>3</td>\n",
              "      <td>60629</td>\n",
              "      <td>41.78</td>\n",
              "      <td>-87.7</td>\n",
              "      <td>Walgreens</td>\n",
              "      <td>41.778249</td>\n",
              "      <td>-87.702817</td>\n",
              "      <td>Pharmacy</td>\n",
              "    </tr>\n",
              "    <tr>\n",
              "      <th>4</th>\n",
              "      <td>4</td>\n",
              "      <td>60629</td>\n",
              "      <td>41.78</td>\n",
              "      <td>-87.7</td>\n",
              "      <td>Dollar General</td>\n",
              "      <td>41.780620</td>\n",
              "      <td>-87.702855</td>\n",
              "      <td>Discount Store</td>\n",
              "    </tr>\n",
              "  </tbody>\n",
              "</table>\n",
              "</div>"
            ],
            "text/plain": [
              "   Unnamed: 0    Zip  ...  Venue Longitude      Venue Category\n",
              "0           0  60629  ...       -87.704119      Cosmetics Shop\n",
              "1           1  60629  ...       -87.704435  Mexican Restaurant\n",
              "2           2  60629  ...       -87.702767   Convenience Store\n",
              "3           3  60629  ...       -87.702817            Pharmacy\n",
              "4           4  60629  ...       -87.702855      Discount Store\n",
              "\n",
              "[5 rows x 8 columns]"
            ]
          },
          "metadata": {
            "tags": []
          },
          "execution_count": 35
        }
      ]
    },
    {
      "cell_type": "code",
      "metadata": {
        "id": "m-5tG5qJDAI6",
        "colab_type": "code",
        "colab": {
          "base_uri": "https://localhost:8080/",
          "height": 33
        },
        "outputId": "123633a2-c83f-48b5-95d4-c683e1d89f4b"
      },
      "source": [
        "fsq_raw.shape"
      ],
      "execution_count": 36,
      "outputs": [
        {
          "output_type": "execute_result",
          "data": {
            "text/plain": [
              "(632, 8)"
            ]
          },
          "metadata": {
            "tags": []
          },
          "execution_count": 36
        }
      ]
    },
    {
      "cell_type": "code",
      "metadata": {
        "id": "_vwoGAmxClH1",
        "colab_type": "code",
        "colab": {
          "base_uri": "https://localhost:8080/",
          "height": 50
        },
        "outputId": "df68f44d-935d-4877-abcb-1926d11d1a91"
      },
      "source": [
        "print('Number of zipcodes:', fsq_raw['Zip'].nunique())\n",
        "print('Data frame length:', len(fsq_raw))"
      ],
      "execution_count": 37,
      "outputs": [
        {
          "output_type": "stream",
          "text": [
            "Number of zipcodes: 52\n",
            "Data frame length: 632\n"
          ],
          "name": "stdout"
        }
      ]
    },
    {
      "cell_type": "markdown",
      "metadata": {
        "id": "mFyNtgftwils",
        "colab_type": "text"
      },
      "source": [
        "It turns out Foursquare does not have data for 38 of the 80 zipcodes.  We do not have the option of sourcing a similar data set from a different source and must proceed.  \n",
        "\n",
        "We will workaround this problem by imputing the mode, or the most frequently occuring venue, for each zipcode.  More on this below."
      ]
    },
    {
      "cell_type": "markdown",
      "metadata": {
        "id": "2koBpXotLCGy",
        "colab_type": "text"
      },
      "source": [
        "### Re-shaping the Foursquare data\n",
        "\n",
        "The Venue Category returned by Foursquare is very detailed.  We will roll this up to more summarised level to describe the zipcodes. This roll-up can be performed with the Foursquare category hierarchy. \n",
        "\n",
        "Foursquare provides the hierarchy of categories in json format.  This is retrieved below."
      ]
    },
    {
      "cell_type": "code",
      "metadata": {
        "id": "y2j0VsbGtDyb",
        "colab_type": "code",
        "colab": {
          "base_uri": "https://localhost:8080/",
          "height": 51
        },
        "outputId": "cbc73ec5-49f6-4262-949e-c9023a6e3761"
      },
      "source": [
        "ctgy_url = 'https://api.foursquare.com/v2/venues/categories?&client_id={}&client_secret={}&v={}'.format(CLIENT_ID, CLIENT_SECRET, VERSION)\n",
        "ctgy_url"
      ],
      "execution_count": 38,
      "outputs": [
        {
          "output_type": "execute_result",
          "data": {
            "application/vnd.google.colaboratory.intrinsic+json": {
              "type": "string"
            },
            "text/plain": [
              "'https://api.foursquare.com/v2/venues/categories?&client_id=0M35HSSAZ1L2QPGP5LAKSPMBUUDTERESBKXLNZRQMUCEVJYS&client_secret=QWIGICNR1KXB3RU5Y5LRJFH03RANUYOVRKNTUTO0KCONHAGQ&v=20200623'"
            ]
          },
          "metadata": {
            "tags": []
          },
          "execution_count": 38
        }
      ]
    },
    {
      "cell_type": "code",
      "metadata": {
        "id": "oEeqAF8Yt5aN",
        "colab_type": "code",
        "colab": {}
      },
      "source": [
        "ctgy_results = requests.get(ctgy_url).json()"
      ],
      "execution_count": 39,
      "outputs": []
    },
    {
      "cell_type": "code",
      "metadata": {
        "id": "_D6oFVPc7DSL",
        "colab_type": "code",
        "colab": {}
      },
      "source": [
        "level_1 = []\n",
        "level_2 = []\n",
        "for f in ctgy_results['response']['categories']:\n",
        "  for g in f['categories']:\n",
        "    level_1.append(f['name'])\n",
        "    level_2.append(g['name'])"
      ],
      "execution_count": 40,
      "outputs": []
    },
    {
      "cell_type": "code",
      "metadata": {
        "id": "Mg5bdYba0ATq",
        "colab_type": "code",
        "colab": {
          "base_uri": "https://localhost:8080/",
          "height": 191
        },
        "outputId": "42436d1f-4b6b-4d5f-c934-7d4b4dc370c3"
      },
      "source": [
        "fsq_hrchy = pd.DataFrame({'level_1':level_1, 'level_2':level_2})\n",
        "fsq_hrchy.head()"
      ],
      "execution_count": 41,
      "outputs": [
        {
          "output_type": "execute_result",
          "data": {
            "text/html": [
              "<div>\n",
              "<style scoped>\n",
              "    .dataframe tbody tr th:only-of-type {\n",
              "        vertical-align: middle;\n",
              "    }\n",
              "\n",
              "    .dataframe tbody tr th {\n",
              "        vertical-align: top;\n",
              "    }\n",
              "\n",
              "    .dataframe thead th {\n",
              "        text-align: right;\n",
              "    }\n",
              "</style>\n",
              "<table border=\"1\" class=\"dataframe\">\n",
              "  <thead>\n",
              "    <tr style=\"text-align: right;\">\n",
              "      <th></th>\n",
              "      <th>level_1</th>\n",
              "      <th>level_2</th>\n",
              "    </tr>\n",
              "  </thead>\n",
              "  <tbody>\n",
              "    <tr>\n",
              "      <th>0</th>\n",
              "      <td>Arts &amp; Entertainment</td>\n",
              "      <td>Amphitheater</td>\n",
              "    </tr>\n",
              "    <tr>\n",
              "      <th>1</th>\n",
              "      <td>Arts &amp; Entertainment</td>\n",
              "      <td>Aquarium</td>\n",
              "    </tr>\n",
              "    <tr>\n",
              "      <th>2</th>\n",
              "      <td>Arts &amp; Entertainment</td>\n",
              "      <td>Arcade</td>\n",
              "    </tr>\n",
              "    <tr>\n",
              "      <th>3</th>\n",
              "      <td>Arts &amp; Entertainment</td>\n",
              "      <td>Art Gallery</td>\n",
              "    </tr>\n",
              "    <tr>\n",
              "      <th>4</th>\n",
              "      <td>Arts &amp; Entertainment</td>\n",
              "      <td>Bowling Alley</td>\n",
              "    </tr>\n",
              "  </tbody>\n",
              "</table>\n",
              "</div>"
            ],
            "text/plain": [
              "                level_1        level_2\n",
              "0  Arts & Entertainment   Amphitheater\n",
              "1  Arts & Entertainment       Aquarium\n",
              "2  Arts & Entertainment         Arcade\n",
              "3  Arts & Entertainment    Art Gallery\n",
              "4  Arts & Entertainment  Bowling Alley"
            ]
          },
          "metadata": {
            "tags": []
          },
          "execution_count": 41
        }
      ]
    },
    {
      "cell_type": "markdown",
      "metadata": {
        "id": "NT5AExOGsHCj",
        "colab_type": "text"
      },
      "source": [
        "How many level 1 categories are there and what are they?"
      ]
    },
    {
      "cell_type": "code",
      "metadata": {
        "id": "saPGMyvh6dCD",
        "colab_type": "code",
        "colab": {
          "base_uri": "https://localhost:8080/",
          "height": 33
        },
        "outputId": "b394884f-20f9-4d53-aecf-888c7186e547"
      },
      "source": [
        "print('Count of level_1 categories:', fsq_hrchy['level_1'].nunique())"
      ],
      "execution_count": 42,
      "outputs": [
        {
          "output_type": "stream",
          "text": [
            "Count of level_1 categories: 10\n"
          ],
          "name": "stdout"
        }
      ]
    },
    {
      "cell_type": "code",
      "metadata": {
        "id": "fbFTFVItRGJK",
        "colab_type": "code",
        "colab": {
          "base_uri": "https://localhost:8080/",
          "height": 66
        },
        "outputId": "ac3c28d1-6140-4320-a48d-725947ce03e0"
      },
      "source": [
        "print(fsq_hrchy['level_1'].unique())"
      ],
      "execution_count": 43,
      "outputs": [
        {
          "output_type": "stream",
          "text": [
            "['Arts & Entertainment' 'College & University' 'Event' 'Food'\n",
            " 'Nightlife Spot' 'Outdoors & Recreation' 'Professional & Other Places'\n",
            " 'Residence' 'Shop & Service' 'Travel & Transport']\n"
          ],
          "name": "stdout"
        }
      ]
    },
    {
      "cell_type": "markdown",
      "metadata": {
        "id": "R294D8AXsOyR",
        "colab_type": "text"
      },
      "source": [
        "We now merge the raw venue and category level data."
      ]
    },
    {
      "cell_type": "code",
      "metadata": {
        "id": "Ha7r0biWv39D",
        "colab_type": "code",
        "colab": {
          "base_uri": "https://localhost:8080/",
          "height": 191
        },
        "outputId": "3fee7574-3d5a-4acd-f4a4-74dce20f3fc6"
      },
      "source": [
        "fsq = fsq_raw.merge(fsq_hrchy, how='left', left_on='Venue Category', right_on='level_2').copy()\n",
        "fsq.head()"
      ],
      "execution_count": 44,
      "outputs": [
        {
          "output_type": "execute_result",
          "data": {
            "text/html": [
              "<div>\n",
              "<style scoped>\n",
              "    .dataframe tbody tr th:only-of-type {\n",
              "        vertical-align: middle;\n",
              "    }\n",
              "\n",
              "    .dataframe tbody tr th {\n",
              "        vertical-align: top;\n",
              "    }\n",
              "\n",
              "    .dataframe thead th {\n",
              "        text-align: right;\n",
              "    }\n",
              "</style>\n",
              "<table border=\"1\" class=\"dataframe\">\n",
              "  <thead>\n",
              "    <tr style=\"text-align: right;\">\n",
              "      <th></th>\n",
              "      <th>Unnamed: 0</th>\n",
              "      <th>Zip</th>\n",
              "      <th>Zip Latitude</th>\n",
              "      <th>Zip Longitude</th>\n",
              "      <th>Venue</th>\n",
              "      <th>Venue Latitude</th>\n",
              "      <th>Venue Longitude</th>\n",
              "      <th>Venue Category</th>\n",
              "      <th>level_1</th>\n",
              "      <th>level_2</th>\n",
              "    </tr>\n",
              "  </thead>\n",
              "  <tbody>\n",
              "    <tr>\n",
              "      <th>0</th>\n",
              "      <td>0</td>\n",
              "      <td>60629</td>\n",
              "      <td>41.78</td>\n",
              "      <td>-87.7</td>\n",
              "      <td>Quality Beauty Supply</td>\n",
              "      <td>41.779010</td>\n",
              "      <td>-87.704119</td>\n",
              "      <td>Cosmetics Shop</td>\n",
              "      <td>Shop &amp; Service</td>\n",
              "      <td>Cosmetics Shop</td>\n",
              "    </tr>\n",
              "    <tr>\n",
              "      <th>1</th>\n",
              "      <td>1</td>\n",
              "      <td>60629</td>\n",
              "      <td>41.78</td>\n",
              "      <td>-87.7</td>\n",
              "      <td>Pepe's Mexican Restaurant</td>\n",
              "      <td>41.778816</td>\n",
              "      <td>-87.704435</td>\n",
              "      <td>Mexican Restaurant</td>\n",
              "      <td>Food</td>\n",
              "      <td>Mexican Restaurant</td>\n",
              "    </tr>\n",
              "    <tr>\n",
              "      <th>2</th>\n",
              "      <td>2</td>\n",
              "      <td>60629</td>\n",
              "      <td>41.78</td>\n",
              "      <td>-87.7</td>\n",
              "      <td>7-Eleven</td>\n",
              "      <td>41.782835</td>\n",
              "      <td>-87.702767</td>\n",
              "      <td>Convenience Store</td>\n",
              "      <td>Shop &amp; Service</td>\n",
              "      <td>Convenience Store</td>\n",
              "    </tr>\n",
              "    <tr>\n",
              "      <th>3</th>\n",
              "      <td>3</td>\n",
              "      <td>60629</td>\n",
              "      <td>41.78</td>\n",
              "      <td>-87.7</td>\n",
              "      <td>Walgreens</td>\n",
              "      <td>41.778249</td>\n",
              "      <td>-87.702817</td>\n",
              "      <td>Pharmacy</td>\n",
              "      <td>Shop &amp; Service</td>\n",
              "      <td>Pharmacy</td>\n",
              "    </tr>\n",
              "    <tr>\n",
              "      <th>4</th>\n",
              "      <td>4</td>\n",
              "      <td>60629</td>\n",
              "      <td>41.78</td>\n",
              "      <td>-87.7</td>\n",
              "      <td>Dollar General</td>\n",
              "      <td>41.780620</td>\n",
              "      <td>-87.702855</td>\n",
              "      <td>Discount Store</td>\n",
              "      <td>Shop &amp; Service</td>\n",
              "      <td>Discount Store</td>\n",
              "    </tr>\n",
              "  </tbody>\n",
              "</table>\n",
              "</div>"
            ],
            "text/plain": [
              "   Unnamed: 0    Zip  ...         level_1             level_2\n",
              "0           0  60629  ...  Shop & Service      Cosmetics Shop\n",
              "1           1  60629  ...            Food  Mexican Restaurant\n",
              "2           2  60629  ...  Shop & Service   Convenience Store\n",
              "3           3  60629  ...  Shop & Service            Pharmacy\n",
              "4           4  60629  ...  Shop & Service      Discount Store\n",
              "\n",
              "[5 rows x 10 columns]"
            ]
          },
          "metadata": {
            "tags": []
          },
          "execution_count": 44
        }
      ]
    },
    {
      "cell_type": "markdown",
      "metadata": {
        "id": "BrSDpQg-sr4D",
        "colab_type": "text"
      },
      "source": [
        "Before proceeding we need to check if there are `NaN`s returned.  This will be the case if the hierarchy data does not contain a complete list of venues."
      ]
    },
    {
      "cell_type": "code",
      "metadata": {
        "id": "bhmQVeCcs5Gz",
        "colab_type": "code",
        "colab": {
          "base_uri": "https://localhost:8080/",
          "height": 33
        },
        "outputId": "f58de710-d593-40fb-bfbf-5ae9072ebb16"
      },
      "source": [
        "print('Proportion of matches:', 1- fsq[fsq['level_1'].isnull()]['Venue Category'].count() / len(fsq_raw))"
      ],
      "execution_count": 45,
      "outputs": [
        {
          "output_type": "stream",
          "text": [
            "Proportion of matches: 0.7262658227848101\n"
          ],
          "name": "stdout"
        }
      ]
    },
    {
      "cell_type": "markdown",
      "metadata": {
        "id": "cf66r74hQ7Hr",
        "colab_type": "text"
      },
      "source": [
        "So we have circa 27% of venues un-matched in that they did not have an entry in the hierarchy data.  Let's take a look at the un-matched venues."
      ]
    },
    {
      "cell_type": "code",
      "metadata": {
        "id": "XrQk_KG1Q1Qg",
        "colab_type": "code",
        "colab": {
          "base_uri": "https://localhost:8080/",
          "height": 212
        },
        "outputId": "38e0f8ca-89e5-494a-8a1e-da7e0dec1fb1"
      },
      "source": [
        "print(fsq[fsq['level_1'].isnull()]['Venue Category'].unique())"
      ],
      "execution_count": 46,
      "outputs": [
        {
          "output_type": "stream",
          "text": [
            "['Taco Place' 'Grocery Store' 'Tennis Court' 'Soccer Field' 'Skating Rink'\n",
            " 'Gymnastics Gym' 'Chinese Restaurant' 'Sports Bar' 'Kids Store'\n",
            " 'Sushi Restaurant' \"Women's Store\" 'Gym' 'Ice Cream Shop' 'Pie Shop'\n",
            " 'Cocktail Bar' 'New American Restaurant' 'Street Art' 'Liquor Store'\n",
            " 'Track' 'Yoga Studio' 'Dive Bar' 'Gym / Fitness Center' 'Baseball Field'\n",
            " 'Beer Store' 'Korean Restaurant' 'Vietnamese Restaurant'\n",
            " 'Arts & Entertainment' 'Shoe Store' 'Japanese Restaurant' 'Boutique'\n",
            " 'South American Restaurant' 'Frozen Yogurt Shop' 'Thai Restaurant'\n",
            " 'Tapas Restaurant' \"Men's Store\" 'Accessories Store' 'Farmers Market'\n",
            " 'Cupcake Shop' 'Martial Arts Dojo' 'Karaoke Bar' 'Jazz Club'\n",
            " 'Ethiopian Restaurant' 'Climbing Gym' 'Food' 'Dance Studio' 'Theater'\n",
            " 'Church' 'Golf Course' 'Skate Park']\n"
          ],
          "name": "stdout"
        }
      ]
    },
    {
      "cell_type": "markdown",
      "metadata": {
        "id": "StTHwm26PQbW",
        "colab_type": "text"
      },
      "source": [
        "### Impute missing values\n",
        "It will be the difficult to match these records to a nested json file.  These will therefore be filled with the most frequent category, the mode,  by zipcode."
      ]
    },
    {
      "cell_type": "code",
      "metadata": {
        "id": "r09YTNsMSWcB",
        "colab_type": "code",
        "colab": {
          "base_uri": "https://localhost:8080/",
          "height": 82
        },
        "outputId": "63a30696-85e8-4dc8-a8e1-185502ee6dc6"
      },
      "source": [
        "fsq_imp = fsq.copy()\n",
        "fsq_imp['level_1'] = fsq_imp.groupby('Zip')['level_1'].transform(lambda x: x.fillna(next(iter(x.mode()), np.nan)))\n",
        "\n",
        "print('Proportion of matches:', 1- fsq_imp[fsq_imp['level_1'].isnull()]['Venue Category'].count() / len(fsq_imp))\n",
        "print('Number of zipcodes:', fsq_imp['Zip'].nunique())\n",
        "print('Count of level_1 categories:', fsq_imp['level_1'].nunique())\n",
        "print('Data frame length:', len(fsq_imp))\n",
        "\n",
        "# A catch all for remaining NaN's\n",
        "#fsq_imp.fillna(value = {'level_1': 'Food', 'level_2': 'Food'}, inplace=True)"
      ],
      "execution_count": 47,
      "outputs": [
        {
          "output_type": "stream",
          "text": [
            "Proportion of matches: 0.9936708860759493\n",
            "Number of zipcodes: 52\n",
            "Count of level_1 categories: 7\n",
            "Data frame length: 632\n"
          ],
          "name": "stdout"
        }
      ]
    },
    {
      "cell_type": "code",
      "metadata": {
        "id": "RvUxKaurNM7c",
        "colab_type": "code",
        "colab": {
          "base_uri": "https://localhost:8080/",
          "height": 191
        },
        "outputId": "06560bfd-1ba4-46e9-c6f3-3d00c22aa310"
      },
      "source": [
        "fsq_imp.head()"
      ],
      "execution_count": 48,
      "outputs": [
        {
          "output_type": "execute_result",
          "data": {
            "text/html": [
              "<div>\n",
              "<style scoped>\n",
              "    .dataframe tbody tr th:only-of-type {\n",
              "        vertical-align: middle;\n",
              "    }\n",
              "\n",
              "    .dataframe tbody tr th {\n",
              "        vertical-align: top;\n",
              "    }\n",
              "\n",
              "    .dataframe thead th {\n",
              "        text-align: right;\n",
              "    }\n",
              "</style>\n",
              "<table border=\"1\" class=\"dataframe\">\n",
              "  <thead>\n",
              "    <tr style=\"text-align: right;\">\n",
              "      <th></th>\n",
              "      <th>Unnamed: 0</th>\n",
              "      <th>Zip</th>\n",
              "      <th>Zip Latitude</th>\n",
              "      <th>Zip Longitude</th>\n",
              "      <th>Venue</th>\n",
              "      <th>Venue Latitude</th>\n",
              "      <th>Venue Longitude</th>\n",
              "      <th>Venue Category</th>\n",
              "      <th>level_1</th>\n",
              "      <th>level_2</th>\n",
              "    </tr>\n",
              "  </thead>\n",
              "  <tbody>\n",
              "    <tr>\n",
              "      <th>0</th>\n",
              "      <td>0</td>\n",
              "      <td>60629</td>\n",
              "      <td>41.78</td>\n",
              "      <td>-87.7</td>\n",
              "      <td>Quality Beauty Supply</td>\n",
              "      <td>41.779010</td>\n",
              "      <td>-87.704119</td>\n",
              "      <td>Cosmetics Shop</td>\n",
              "      <td>Shop &amp; Service</td>\n",
              "      <td>Cosmetics Shop</td>\n",
              "    </tr>\n",
              "    <tr>\n",
              "      <th>1</th>\n",
              "      <td>1</td>\n",
              "      <td>60629</td>\n",
              "      <td>41.78</td>\n",
              "      <td>-87.7</td>\n",
              "      <td>Pepe's Mexican Restaurant</td>\n",
              "      <td>41.778816</td>\n",
              "      <td>-87.704435</td>\n",
              "      <td>Mexican Restaurant</td>\n",
              "      <td>Food</td>\n",
              "      <td>Mexican Restaurant</td>\n",
              "    </tr>\n",
              "    <tr>\n",
              "      <th>2</th>\n",
              "      <td>2</td>\n",
              "      <td>60629</td>\n",
              "      <td>41.78</td>\n",
              "      <td>-87.7</td>\n",
              "      <td>7-Eleven</td>\n",
              "      <td>41.782835</td>\n",
              "      <td>-87.702767</td>\n",
              "      <td>Convenience Store</td>\n",
              "      <td>Shop &amp; Service</td>\n",
              "      <td>Convenience Store</td>\n",
              "    </tr>\n",
              "    <tr>\n",
              "      <th>3</th>\n",
              "      <td>3</td>\n",
              "      <td>60629</td>\n",
              "      <td>41.78</td>\n",
              "      <td>-87.7</td>\n",
              "      <td>Walgreens</td>\n",
              "      <td>41.778249</td>\n",
              "      <td>-87.702817</td>\n",
              "      <td>Pharmacy</td>\n",
              "      <td>Shop &amp; Service</td>\n",
              "      <td>Pharmacy</td>\n",
              "    </tr>\n",
              "    <tr>\n",
              "      <th>4</th>\n",
              "      <td>4</td>\n",
              "      <td>60629</td>\n",
              "      <td>41.78</td>\n",
              "      <td>-87.7</td>\n",
              "      <td>Dollar General</td>\n",
              "      <td>41.780620</td>\n",
              "      <td>-87.702855</td>\n",
              "      <td>Discount Store</td>\n",
              "      <td>Shop &amp; Service</td>\n",
              "      <td>Discount Store</td>\n",
              "    </tr>\n",
              "  </tbody>\n",
              "</table>\n",
              "</div>"
            ],
            "text/plain": [
              "   Unnamed: 0    Zip  ...         level_1             level_2\n",
              "0           0  60629  ...  Shop & Service      Cosmetics Shop\n",
              "1           1  60629  ...            Food  Mexican Restaurant\n",
              "2           2  60629  ...  Shop & Service   Convenience Store\n",
              "3           3  60629  ...  Shop & Service            Pharmacy\n",
              "4           4  60629  ...  Shop & Service      Discount Store\n",
              "\n",
              "[5 rows x 10 columns]"
            ]
          },
          "metadata": {
            "tags": []
          },
          "execution_count": 48
        }
      ]
    },
    {
      "cell_type": "markdown",
      "metadata": {
        "id": "RTBHh11yS1cB",
        "colab_type": "text"
      },
      "source": [
        "We now re-shape the data frame to represent the count of venues per category as a percent of the total per zipcode.  This data is then joined back to the election and demographic data."
      ]
    },
    {
      "cell_type": "code",
      "metadata": {
        "id": "Vv0xhU3_AXS2",
        "colab_type": "code",
        "colab": {
          "base_uri": "https://localhost:8080/",
          "height": 220
        },
        "outputId": "2fd27484-f98d-4407-b3ac-e56dff77dddc"
      },
      "source": [
        "# Pivot wider and calculate percentage frequency\n",
        "fsq = fsq_imp.groupby(['Zip','level_1'])['level_2'].count().reset_index().pivot(index='Zip', columns='level_1', values='level_2').fillna(0)\n",
        "fsq = fsq.div(fsq.sum(axis=1), axis=0)\n",
        "fsq.head()"
      ],
      "execution_count": 49,
      "outputs": [
        {
          "output_type": "execute_result",
          "data": {
            "text/html": [
              "<div>\n",
              "<style scoped>\n",
              "    .dataframe tbody tr th:only-of-type {\n",
              "        vertical-align: middle;\n",
              "    }\n",
              "\n",
              "    .dataframe tbody tr th {\n",
              "        vertical-align: top;\n",
              "    }\n",
              "\n",
              "    .dataframe thead th {\n",
              "        text-align: right;\n",
              "    }\n",
              "</style>\n",
              "<table border=\"1\" class=\"dataframe\">\n",
              "  <thead>\n",
              "    <tr style=\"text-align: right;\">\n",
              "      <th>level_1</th>\n",
              "      <th>Arts &amp; Entertainment</th>\n",
              "      <th>Food</th>\n",
              "      <th>Nightlife Spot</th>\n",
              "      <th>Outdoors &amp; Recreation</th>\n",
              "      <th>Professional &amp; Other Places</th>\n",
              "      <th>Shop &amp; Service</th>\n",
              "      <th>Travel &amp; Transport</th>\n",
              "    </tr>\n",
              "    <tr>\n",
              "      <th>Zip</th>\n",
              "      <th></th>\n",
              "      <th></th>\n",
              "      <th></th>\n",
              "      <th></th>\n",
              "      <th></th>\n",
              "      <th></th>\n",
              "      <th></th>\n",
              "    </tr>\n",
              "  </thead>\n",
              "  <tbody>\n",
              "    <tr>\n",
              "      <th>60608</th>\n",
              "      <td>0.000000</td>\n",
              "      <td>0.714286</td>\n",
              "      <td>0.047619</td>\n",
              "      <td>0.000000</td>\n",
              "      <td>0.0</td>\n",
              "      <td>0.190476</td>\n",
              "      <td>0.047619</td>\n",
              "    </tr>\n",
              "    <tr>\n",
              "      <th>60609</th>\n",
              "      <td>0.000000</td>\n",
              "      <td>0.428571</td>\n",
              "      <td>0.142857</td>\n",
              "      <td>0.071429</td>\n",
              "      <td>0.0</td>\n",
              "      <td>0.357143</td>\n",
              "      <td>0.000000</td>\n",
              "    </tr>\n",
              "    <tr>\n",
              "      <th>60614</th>\n",
              "      <td>0.081081</td>\n",
              "      <td>0.648649</td>\n",
              "      <td>0.000000</td>\n",
              "      <td>0.081081</td>\n",
              "      <td>0.0</td>\n",
              "      <td>0.189189</td>\n",
              "      <td>0.000000</td>\n",
              "    </tr>\n",
              "    <tr>\n",
              "      <th>60617</th>\n",
              "      <td>0.000000</td>\n",
              "      <td>0.466667</td>\n",
              "      <td>0.000000</td>\n",
              "      <td>0.000000</td>\n",
              "      <td>0.0</td>\n",
              "      <td>0.466667</td>\n",
              "      <td>0.066667</td>\n",
              "    </tr>\n",
              "    <tr>\n",
              "      <th>60618</th>\n",
              "      <td>0.000000</td>\n",
              "      <td>0.300000</td>\n",
              "      <td>0.050000</td>\n",
              "      <td>0.100000</td>\n",
              "      <td>0.0</td>\n",
              "      <td>0.550000</td>\n",
              "      <td>0.000000</td>\n",
              "    </tr>\n",
              "  </tbody>\n",
              "</table>\n",
              "</div>"
            ],
            "text/plain": [
              "level_1  Arts & Entertainment      Food  ...  Shop & Service  Travel & Transport\n",
              "Zip                                      ...                                    \n",
              "60608                0.000000  0.714286  ...        0.190476            0.047619\n",
              "60609                0.000000  0.428571  ...        0.357143            0.000000\n",
              "60614                0.081081  0.648649  ...        0.189189            0.000000\n",
              "60617                0.000000  0.466667  ...        0.466667            0.066667\n",
              "60618                0.000000  0.300000  ...        0.550000            0.000000\n",
              "\n",
              "[5 rows x 7 columns]"
            ]
          },
          "metadata": {
            "tags": []
          },
          "execution_count": 49
        }
      ]
    },
    {
      "cell_type": "code",
      "metadata": {
        "id": "l2BuaEaXAYqE",
        "colab_type": "code",
        "colab": {
          "base_uri": "https://localhost:8080/",
          "height": 243
        },
        "outputId": "f6a75afe-516e-4b9c-be06-1085e43aed49"
      },
      "source": [
        "# Joining Foursquare data to the loan, election and demographic data \n",
        "loan_elctn_demo_fsq = loan_elctn_demo_sample.merge(fsq, how='left', left_on='Zip', right_index=True).fillna(0).copy()\n",
        "loan_elctn_demo_fsq.head()"
      ],
      "execution_count": 50,
      "outputs": [
        {
          "output_type": "execute_result",
          "data": {
            "text/html": [
              "<div>\n",
              "<style scoped>\n",
              "    .dataframe tbody tr th:only-of-type {\n",
              "        vertical-align: middle;\n",
              "    }\n",
              "\n",
              "    .dataframe tbody tr th {\n",
              "        vertical-align: top;\n",
              "    }\n",
              "\n",
              "    .dataframe thead th {\n",
              "        text-align: right;\n",
              "    }\n",
              "</style>\n",
              "<table border=\"1\" class=\"dataframe\">\n",
              "  <thead>\n",
              "    <tr style=\"text-align: right;\">\n",
              "      <th></th>\n",
              "      <th>Zip</th>\n",
              "      <th>party</th>\n",
              "      <th>state</th>\n",
              "      <th>loan_amount</th>\n",
              "      <th>lat</th>\n",
              "      <th>lng</th>\n",
              "      <th>population</th>\n",
              "      <th>population_density</th>\n",
              "      <th>perc_occ_housing_units</th>\n",
              "      <th>median_home_value</th>\n",
              "      <th>median_household_income</th>\n",
              "      <th>Arts &amp; Entertainment</th>\n",
              "      <th>Food</th>\n",
              "      <th>Nightlife Spot</th>\n",
              "      <th>Outdoors &amp; Recreation</th>\n",
              "      <th>Professional &amp; Other Places</th>\n",
              "      <th>Shop &amp; Service</th>\n",
              "      <th>Travel &amp; Transport</th>\n",
              "    </tr>\n",
              "  </thead>\n",
              "  <tbody>\n",
              "    <tr>\n",
              "      <th>0</th>\n",
              "      <td>60629</td>\n",
              "      <td>dem</td>\n",
              "      <td>IL</td>\n",
              "      <td>21750</td>\n",
              "      <td>41.78</td>\n",
              "      <td>-87.70</td>\n",
              "      <td>113916.0</td>\n",
              "      <td>16726.0</td>\n",
              "      <td>0.885706</td>\n",
              "      <td>159700.0</td>\n",
              "      <td>40650.0</td>\n",
              "      <td>0.0</td>\n",
              "      <td>0.533333</td>\n",
              "      <td>0.00</td>\n",
              "      <td>0.000000</td>\n",
              "      <td>0.0</td>\n",
              "      <td>0.466667</td>\n",
              "      <td>0.000000</td>\n",
              "    </tr>\n",
              "    <tr>\n",
              "      <th>1</th>\n",
              "      <td>60623</td>\n",
              "      <td>dem</td>\n",
              "      <td>IL</td>\n",
              "      <td>47000</td>\n",
              "      <td>41.84</td>\n",
              "      <td>-87.72</td>\n",
              "      <td>92108.0</td>\n",
              "      <td>17196.0</td>\n",
              "      <td>0.832110</td>\n",
              "      <td>155600.0</td>\n",
              "      <td>28949.0</td>\n",
              "      <td>0.0</td>\n",
              "      <td>0.687500</td>\n",
              "      <td>0.00</td>\n",
              "      <td>0.000000</td>\n",
              "      <td>0.0</td>\n",
              "      <td>0.187500</td>\n",
              "      <td>0.125000</td>\n",
              "    </tr>\n",
              "    <tr>\n",
              "      <th>2</th>\n",
              "      <td>60618</td>\n",
              "      <td>dem</td>\n",
              "      <td>IL</td>\n",
              "      <td>77800</td>\n",
              "      <td>41.95</td>\n",
              "      <td>-87.70</td>\n",
              "      <td>92084.0</td>\n",
              "      <td>18195.0</td>\n",
              "      <td>0.895314</td>\n",
              "      <td>336300.0</td>\n",
              "      <td>55577.0</td>\n",
              "      <td>0.0</td>\n",
              "      <td>0.300000</td>\n",
              "      <td>0.05</td>\n",
              "      <td>0.100000</td>\n",
              "      <td>0.0</td>\n",
              "      <td>0.550000</td>\n",
              "      <td>0.000000</td>\n",
              "    </tr>\n",
              "    <tr>\n",
              "      <th>3</th>\n",
              "      <td>60632</td>\n",
              "      <td>dem</td>\n",
              "      <td>IL</td>\n",
              "      <td>108625</td>\n",
              "      <td>41.82</td>\n",
              "      <td>-87.69</td>\n",
              "      <td>91326.0</td>\n",
              "      <td>12297.0</td>\n",
              "      <td>0.890453</td>\n",
              "      <td>177800.0</td>\n",
              "      <td>38545.0</td>\n",
              "      <td>0.0</td>\n",
              "      <td>0.583333</td>\n",
              "      <td>0.00</td>\n",
              "      <td>0.083333</td>\n",
              "      <td>0.0</td>\n",
              "      <td>0.250000</td>\n",
              "      <td>0.083333</td>\n",
              "    </tr>\n",
              "    <tr>\n",
              "      <th>4</th>\n",
              "      <td>60639</td>\n",
              "      <td>dem</td>\n",
              "      <td>IL</td>\n",
              "      <td>56575</td>\n",
              "      <td>41.92</td>\n",
              "      <td>-87.76</td>\n",
              "      <td>90407.0</td>\n",
              "      <td>18537.0</td>\n",
              "      <td>0.894050</td>\n",
              "      <td>206800.0</td>\n",
              "      <td>38707.0</td>\n",
              "      <td>0.0</td>\n",
              "      <td>0.600000</td>\n",
              "      <td>0.00</td>\n",
              "      <td>0.000000</td>\n",
              "      <td>0.0</td>\n",
              "      <td>0.200000</td>\n",
              "      <td>0.200000</td>\n",
              "    </tr>\n",
              "  </tbody>\n",
              "</table>\n",
              "</div>"
            ],
            "text/plain": [
              "     Zip party  ... Shop & Service  Travel & Transport\n",
              "0  60629   dem  ...       0.466667            0.000000\n",
              "1  60623   dem  ...       0.187500            0.125000\n",
              "2  60618   dem  ...       0.550000            0.000000\n",
              "3  60632   dem  ...       0.250000            0.083333\n",
              "4  60639   dem  ...       0.200000            0.200000\n",
              "\n",
              "[5 rows x 18 columns]"
            ]
          },
          "metadata": {
            "tags": []
          },
          "execution_count": 50
        }
      ]
    },
    {
      "cell_type": "markdown",
      "metadata": {
        "id": "Eu5H-dzfU4MH",
        "colab_type": "text"
      },
      "source": [
        "### Scaling before clustering\n",
        "\n",
        "At the outset we stated that we would \"gather characteristics at zipcode level, and group zipcodes into similar regions\".  We will do this grouping into zipcodes intosimilar regions using a hierarchical clustering model. In order to apply that model, we need to scale our variables.  \n",
        "\n",
        "Scaling is required as the effect of certain attributes may dominate others should they have greater dispersion.  "
      ]
    },
    {
      "cell_type": "code",
      "metadata": {
        "id": "zlc3K4x1bXyZ",
        "colab_type": "code",
        "colab": {}
      },
      "source": [
        "cluster_df = loan_elctn_demo_fsq.drop(['Zip','party','state','loan_amount','lat','lng'], axis=1)\n",
        "#col_list = ['population','population_density','perc_occ_housing_units','median_home_value','median_household_income']\n",
        "min_max_scaler = MinMaxScaler()\n",
        "#cluster_df[col_list] = min_max_scaler.fit_transform(cluster_df[col_list])\n",
        "cluster_df = min_max_scaler.fit_transform(cluster_df)"
      ],
      "execution_count": 51,
      "outputs": []
    },
    {
      "cell_type": "markdown",
      "metadata": {
        "id": "TB1cZm37XRqD",
        "colab_type": "text"
      },
      "source": [
        "### Hierarchical clustering"
      ]
    },
    {
      "cell_type": "code",
      "metadata": {
        "id": "QytzP5xyfNbJ",
        "colab_type": "code",
        "colab": {
          "base_uri": "https://localhost:8080/",
          "height": 1000
        },
        "outputId": "02d8acbc-9dba-4da7-f4f2-606e4f53e94f"
      },
      "source": [
        "cluster_obj = linkage(cluster_df, 'single')\n",
        "\n",
        "label_list = loan_elctn_demo_fsq['state'] +' - ' + loan_elctn_demo_fsq['party']# +' - ' + str(loan_elctn_demo_fsq['Zip'])\n",
        "label_list = label_list.tolist()\n",
        "\n",
        "plt.figure(figsize=(12, 20))\n",
        "dendrogram(cluster_obj,\n",
        "  leaf_font_size = 10,\n",
        "  orientation='left',\n",
        "  labels=label_list,\n",
        "  distance_sort='descending',\n",
        "  show_leaf_counts=False)\n",
        "plt.show()"
      ],
      "execution_count": 52,
      "outputs": [
        {
          "output_type": "display_data",
          "data": {
            "image/png": "[encoded data removed]",
            "text/plain": [
              "<Figure size 864x1440 with 1 Axes>"
            ]
          },
          "metadata": {
            "tags": [],
            "needs_background": "light"
          }
        }
      ]
    },
    {
      "cell_type": "markdown",
      "metadata": {
        "id": "0pjEv4ZQXq8W",
        "colab_type": "text"
      },
      "source": [
        "Lets look at cluster membership taking 8 clusters."
      ]
    },
    {
      "cell_type": "code",
      "metadata": {
        "id": "SDzP97SaiGti",
        "colab_type": "code",
        "colab": {
          "base_uri": "https://localhost:8080/",
          "height": 163
        },
        "outputId": "78ba33b0-2b4e-4e1b-be0f-d424cee08e46"
      },
      "source": [
        "clusters = fcluster(cluster_obj,t=8,criterion='maxclust')\n",
        "pd.Series(clusters).value_counts()"
      ],
      "execution_count": 53,
      "outputs": [
        {
          "output_type": "execute_result",
          "data": {
            "text/plain": [
              "3    41\n",
              "2    32\n",
              "1     2\n",
              "8     1\n",
              "7     1\n",
              "6     1\n",
              "5     1\n",
              "4     1\n",
              "dtype: int64"
            ]
          },
          "metadata": {
            "tags": []
          },
          "execution_count": 53
        }
      ]
    },
    {
      "cell_type": "markdown",
      "metadata": {
        "id": "KL5yAPwnXOOg",
        "colab_type": "text"
      },
      "source": [
        "Only two groups, clusters 2 and 3, contain 73 of the 80 zipcodes.  "
      ]
    },
    {
      "cell_type": "markdown",
      "metadata": {
        "id": "Q0PaLUHamGcU",
        "colab_type": "text"
      },
      "source": [
        "Bring it all back together. "
      ]
    },
    {
      "cell_type": "code",
      "metadata": {
        "id": "Aj_OzCzAYQNb",
        "colab_type": "code",
        "colab": {
          "base_uri": "https://localhost:8080/",
          "height": 191
        },
        "outputId": "87b91815-8b75-4d60-d069-872d364660ac"
      },
      "source": [
        "cluster_result = loan_elctn_demo_fsq[['Zip','party','state','loan_amount','population']].copy()\n",
        "cluster_result['loan_per_pop'] = cluster_result['loan_amount'] / cluster_result['population']\n",
        "cluster_result['cluster'] = clusters\n",
        "cluster_result.head()"
      ],
      "execution_count": 54,
      "outputs": [
        {
          "output_type": "execute_result",
          "data": {
            "text/html": [
              "<div>\n",
              "<style scoped>\n",
              "    .dataframe tbody tr th:only-of-type {\n",
              "        vertical-align: middle;\n",
              "    }\n",
              "\n",
              "    .dataframe tbody tr th {\n",
              "        vertical-align: top;\n",
              "    }\n",
              "\n",
              "    .dataframe thead th {\n",
              "        text-align: right;\n",
              "    }\n",
              "</style>\n",
              "<table border=\"1\" class=\"dataframe\">\n",
              "  <thead>\n",
              "    <tr style=\"text-align: right;\">\n",
              "      <th></th>\n",
              "      <th>Zip</th>\n",
              "      <th>party</th>\n",
              "      <th>state</th>\n",
              "      <th>loan_amount</th>\n",
              "      <th>population</th>\n",
              "      <th>loan_per_pop</th>\n",
              "      <th>cluster</th>\n",
              "    </tr>\n",
              "  </thead>\n",
              "  <tbody>\n",
              "    <tr>\n",
              "      <th>0</th>\n",
              "      <td>60629</td>\n",
              "      <td>dem</td>\n",
              "      <td>IL</td>\n",
              "      <td>21750</td>\n",
              "      <td>113916.0</td>\n",
              "      <td>0.190930</td>\n",
              "      <td>3</td>\n",
              "    </tr>\n",
              "    <tr>\n",
              "      <th>1</th>\n",
              "      <td>60623</td>\n",
              "      <td>dem</td>\n",
              "      <td>IL</td>\n",
              "      <td>47000</td>\n",
              "      <td>92108.0</td>\n",
              "      <td>0.510271</td>\n",
              "      <td>3</td>\n",
              "    </tr>\n",
              "    <tr>\n",
              "      <th>2</th>\n",
              "      <td>60618</td>\n",
              "      <td>dem</td>\n",
              "      <td>IL</td>\n",
              "      <td>77800</td>\n",
              "      <td>92084.0</td>\n",
              "      <td>0.844881</td>\n",
              "      <td>3</td>\n",
              "    </tr>\n",
              "    <tr>\n",
              "      <th>3</th>\n",
              "      <td>60632</td>\n",
              "      <td>dem</td>\n",
              "      <td>IL</td>\n",
              "      <td>108625</td>\n",
              "      <td>91326.0</td>\n",
              "      <td>1.189420</td>\n",
              "      <td>3</td>\n",
              "    </tr>\n",
              "    <tr>\n",
              "      <th>4</th>\n",
              "      <td>60639</td>\n",
              "      <td>dem</td>\n",
              "      <td>IL</td>\n",
              "      <td>56575</td>\n",
              "      <td>90407.0</td>\n",
              "      <td>0.625781</td>\n",
              "      <td>3</td>\n",
              "    </tr>\n",
              "  </tbody>\n",
              "</table>\n",
              "</div>"
            ],
            "text/plain": [
              "     Zip party state  loan_amount  population  loan_per_pop  cluster\n",
              "0  60629   dem    IL        21750    113916.0      0.190930        3\n",
              "1  60623   dem    IL        47000     92108.0      0.510271        3\n",
              "2  60618   dem    IL        77800     92084.0      0.844881        3\n",
              "3  60632   dem    IL       108625     91326.0      1.189420        3\n",
              "4  60639   dem    IL        56575     90407.0      0.625781        3"
            ]
          },
          "metadata": {
            "tags": []
          },
          "execution_count": 54
        }
      ]
    },
    {
      "cell_type": "markdown",
      "metadata": {
        "id": "-AyCTwCdZ1bc",
        "colab_type": "text"
      },
      "source": [
        "# Results\n",
        "\n",
        "We will now inspect the distribution of loan values for the two clusters returning the vast majority of zipcodes."
      ]
    },
    {
      "cell_type": "code",
      "metadata": {
        "id": "D_AHBSUBYtqR",
        "colab_type": "code",
        "colab": {
          "base_uri": "https://localhost:8080/",
          "height": 621
        },
        "outputId": "ae3c1589-e58f-46f0-a5bb-89a6bc6cb802"
      },
      "source": [
        "data = cluster_result[cluster_result['cluster'].isin(['2','3'])]\n",
        "plt.figure(figsize=(12, 10))\n",
        "sns.boxplot(x='cluster', hue='party', y='loan_amount', data=data).set(title = 'Total loan amount')\n",
        "plt.show()"
      ],
      "execution_count": 55,
      "outputs": [
        {
          "output_type": "display_data",
          "data": {
            "image/png": "[encoded data removed]",
            "text/plain": [
              "<Figure size 864x720 with 1 Axes>"
            ]
          },
          "metadata": {
            "tags": [],
            "needs_background": "light"
          }
        }
      ]
    },
    {
      "cell_type": "code",
      "metadata": {
        "id": "g_vdFk3pquSc",
        "colab_type": "code",
        "colab": {
          "base_uri": "https://localhost:8080/",
          "height": 621
        },
        "outputId": "9be2eadb-27f1-4b96-8bd3-f5a81f135485"
      },
      "source": [
        "plt.figure(figsize=(12, 10))\n",
        "sns.boxplot(x='cluster', hue='party', y='loan_per_pop', data=data).set(title = 'Loan amount per capita')\n",
        "plt.show()"
      ],
      "execution_count": 56,
      "outputs": [
        {
          "output_type": "display_data",
          "data": {
            "image/png": "[encoded data removed]",
            "text/plain": [
              "<Figure size 864x720 with 1 Axes>"
            ]
          },
          "metadata": {
            "tags": [],
            "needs_background": "light"
          }
        }
      ]
    },
    {
      "cell_type": "markdown",
      "metadata": {
        "id": "lmRsv86UYdZF",
        "colab_type": "text"
      },
      "source": [
        "The box plots above represent the distribution of loan values (top) and value of loans per capita (bottom) for all zipcodes in each of the categories labelled 2 and 3.  The categories are clusters determined with reference to demographic and neighbourhood characteristics. \n",
        "\n",
        "These plots do not suggest a significant difference in loan uptake between Democrat (light) and Republican (dark) zipcodes."
      ]
    },
    {
      "cell_type": "markdown",
      "metadata": {
        "id": "kgkt3JB1Z6WI",
        "colab_type": "text"
      },
      "source": [
        "# Discussion\n",
        "\n",
        "A number of unrelated points on methodology and data (with the benefit of hindsight).\n",
        "\n",
        "Ideally we should formally test for differences in means of the data presented in the box plots above. The results of an analysis of variance test would be informative in this regard.  Unfortunately deadlines loom (this report is being prepared for a Data Science course), and as a result of that we will rely only on the visual inspection referred to above.  \n",
        "\n",
        "An interesting point to consider in light of the methodology used above is the fact that electoral results may be sufficiently close at zipcode to mask any underlying variation in the loan data.  \n",
        "\n",
        "Reconsidering the question posed may have us regressing the count of loans over the count of all business establishments, on the percent of democrat or republican vote by zipcode.  This is beyond the scope of this analysis due to the lack of total business establishments data."
      ]
    },
    {
      "cell_type": "markdown",
      "metadata": {
        "id": "rZcVh_I6srrz",
        "colab_type": "text"
      },
      "source": [
        "# Conclusion\n",
        "This report set out to determine if political persuasion influences utilisation of government assistance, namely the uptake of loans issued under the Small Business Administration Paycheck Protection Program in the US.  \n",
        "\n",
        "Ultimately the results were inconclusive.\n",
        "\n",
        " A number of things could have impacted the results.  Changing any of the items listed below may result in different and more robust results: \n",
        " 1. Greater coverage of Foursquare data\n",
        " 2. A larger coverage of zipcodes\n",
        " 3. Using electoral data at a more granular level\n",
        " 4. Having access to total business establishment data\n",
        "\n",
        "These items should be considered for further analysis."
      ]
    },
    {
      "cell_type": "markdown",
      "metadata": {
        "id": "B-fDByfZZsaO",
        "colab_type": "text"
      },
      "source": [
        "# Appendix\n",
        "\n",
        "Scratch work on nested json"
      ]
    },
    {
      "cell_type": "code",
      "metadata": {
        "id": "V3rTRjTXxgd0",
        "colab_type": "code",
        "colab": {
          "base_uri": "https://localhost:8080/",
          "height": 82
        },
        "outputId": "e7f0dad2-8f05-4489-c5ac-7b80afb42474"
      },
      "source": [
        "n=8\n",
        "m=31 #1,4 returns 3 results / 2 returns 2 results\n",
        "print(ctgy_results['response']['categories'][n]['name'])\n",
        "print(ctgy_results['response']['categories'][n]['categories'][m]['name'])\n",
        "try:\n",
        "  print(ctgy_results['response']['categories'][n]['categories'][m]['categories'][0]['name'])\n",
        "except:\n",
        "  print(ctgy_results['response']['categories'][n]['categories'][m]['name'])\n",
        "try:\n",
        "  print(ctgy_results['response']['categories'][n]['categories'][m]['categories'][0]['categories'][0]['name'])\n",
        "except:\n",
        "  try:\n",
        "    print(ctgy_results['response']['categories'][n]['categories'][m]['categories'][0]['name'])\n",
        "  except:\n",
        "    print(ctgy_results['response']['categories'][n]['categories'][m]['name'])"
      ],
      "execution_count": 57,
      "outputs": [
        {
          "output_type": "stream",
          "text": [
            "Shop & Service\n",
            "Cosmetics Shop\n",
            "Cosmetics Shop\n",
            "Cosmetics Shop\n"
          ],
          "name": "stdout"
        }
      ]
    }
  ]
}